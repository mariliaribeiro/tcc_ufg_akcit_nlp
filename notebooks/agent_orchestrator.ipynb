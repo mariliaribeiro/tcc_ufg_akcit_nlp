{
 "cells": [
  {
   "cell_type": "code",
   "execution_count": 2,
   "id": "c82bfefe",
   "metadata": {},
   "outputs": [
    {
     "name": "stderr",
     "output_type": "stream",
     "text": [
      "\u001b[32m2025-06-23 10:42:10.765\u001b[0m | \u001b[1mINFO    \u001b[0m | \u001b[36msrc.config\u001b[0m:\u001b[36m<module>\u001b[0m:\u001b[36m13\u001b[0m - \u001b[1mPROJ_ROOT path is: /home/marilia/git/pos/tcc_ufg_akcit_nlp\u001b[0m\n",
      "/home/marilia/git/pos/tcc_ufg_akcit_nlp/.venv/lib/python3.12/site-packages/tqdm/auto.py:21: TqdmWarning: IProgress not found. Please update jupyter and ipywidgets. See https://ipywidgets.readthedocs.io/en/stable/user_install.html\n",
      "  from .autonotebook import tqdm as notebook_tqdm\n",
      "/home/marilia/git/pos/tcc_ufg_akcit_nlp/src/agents/main.py:36: LangChainDeprecationWarning: LangChain agents will continue to be supported, but it is recommended for new use cases to be built with LangGraph. LangGraph offers a more flexible and full-featured framework for building agents, including support for tool-calling, persistence of state, and human-in-the-loop workflows. For details, refer to the `LangGraph documentation <https://langchain-ai.github.io/langgraph/>`_ as well as guides for `Migrating from AgentExecutor <https://python.langchain.com/docs/how_to/migrate_agent/>`_ and LangGraph's `Pre-built ReAct agent <https://langchain-ai.github.io/langgraph/how-tos/create-react-agent/>`_.\n",
      "  self.agent = initialize_agent(\n"
     ]
    }
   ],
   "source": [
    "from src.agents.main import MyAgent\n",
    "\n",
    "agent = MyAgent(\n",
    "    llm_provider=\"openai\",\n",
    "    llm_temperature=0,\n",
    "    llm_max_tokens=None,\n",
    "    embedding_provider=\"hf\",\n",
    ")"
   ]
  },
  {
   "cell_type": "code",
   "execution_count": 3,
   "id": "a843d584",
   "metadata": {},
   "outputs": [
    {
     "name": "stderr",
     "output_type": "stream",
     "text": [
      "/home/marilia/git/pos/tcc_ufg_akcit_nlp/src/agents/main.py:41: LangChainDeprecationWarning: The method `Chain.run` was deprecated in langchain 0.1.0 and will be removed in 1.0. Use :meth:`~invoke` instead.\n",
      "  return self.agent.run(question)\n"
     ]
    },
    {
     "name": "stdout",
     "output_type": "stream",
     "text": [
      "\n",
      "\n",
      "\u001b[1m> Entering new AgentExecutor chain...\u001b[0m\n",
      "\u001b[32;1m\u001b[1;3mPara obter informações sobre o estoque de medicamentos no Distrito Federal (DF) com o código UF 53, vou usar a ferramenta apropriada para consultar os registros de estoque.\n",
      "\n",
      "Action: GetHorusMedicineStock  \n",
      "Action Input: \"últimos 5 registros do estoque de medicamentos do DF com código UF 53\"  \u001b[0mStructured LLM tool schema:\n",
      " {'response_format': <class 'src.api.schemas.request.horus.HorusMedicineStockRequest'>, 'ls_structured_output_format': {'kwargs': {'method': 'json_schema', 'strict': None}, 'schema': {'type': 'function', 'function': {'name': 'HorusMedicineStockRequest', 'description': '', 'parameters': {'properties': {'codigo_uf': {'anyOf': [{'type': 'string'}, {'type': 'null'}], 'default': None, 'description': 'Filtra pelo Código IBGE da Unidade da Federação à qual pertence o estabelecimento'}, 'codigo_municipio': {'anyOf': [{'type': 'string'}, {'type': 'null'}], 'default': None, 'description': 'Filtra pelo Código IBGE do município ao qual pertence o estabelecimento'}, 'codigo_cnes': {'anyOf': [{'type': 'string'}, {'type': 'null'}], 'default': None, 'description': 'Filtra pelo Código CNES do estabelecimento'}, 'data_posicao_estoque': {'anyOf': [{'type': 'string'}, {'type': 'null'}], 'default': None, 'description': 'Filtra pela Data da posição de estoque informada. Formato: AAAA-MM-DD. Exemplo: 2024-02-21'}, 'codigo_catmat': {'anyOf': [{'type': 'string'}, {'type': 'null'}], 'default': None, 'description': 'Filtra pelo Código CATMAT com unidade de fornecimento do item em estoque'}, 'sigla_programa_saude': {'anyOf': [{'type': 'string'}, {'type': 'null'}], 'default': None, 'description': 'Filtra pela Sigla do programa de Saúde vinculado ao item'}, 'tipo_produto': {'anyOf': [{'type': 'string'}, {'type': 'null'}], 'default': None, 'description': 'Filtra pela Sigla do Tipo do produto em estoque'}, 'sigla_sistema_origem': {'anyOf': [{'type': 'string'}, {'type': 'null'}], 'default': None, 'description': 'Filtra pela Sigla do Sistema de origem do dado'}, 'limit': {'default': 100, 'description': 'Quantidade de itens retornados por página. Deve ser menor ou igual 20', 'type': 'integer'}, 'offset': {'default': 0, 'description': 'Número da página de itens que deve ser retornada. Observação: As páginas iniciam a contagem a partir de 0 (zero), por exemplo: offset=0', 'type': 'integer'}}, 'type': 'object'}}}}}\n",
      "Structured output used as API request:\n",
      " codigo_uf='53' codigo_municipio=None codigo_cnes=None data_posicao_estoque=None codigo_catmat=None sigla_programa_saude=None tipo_produto=None sigla_sistema_origem=None limit=5 offset=0\n",
      "API response:\n",
      " {'parametros': [{'codigo_uf': 53, 'uf': 'DF', 'codigo_municipio': 530010, 'municipio': 'Brasília', 'codigo_cnes': 0, 'data_posicao_estoque': '2024-02-05', 'codigo_catmat': 'BR0207893', 'descricao_produto': 'ATADURA ALGODÃO, ALGODÃO, 13 UN, 15 CM, 450 CM, CREPOM', 'quantidade_estoque': 12.0, 'numero_lote': 'E2620', 'data_validade': '2025-06-01 00:00:00-03', 'tipo_produto': 'O', 'sigla_programa_saude': 'ALZHE', 'descricao_programa_saude': 'ALZHEIMER', 'sigla_sistema_origem': 'HORUS', 'razao_social': None, 'nome_fantasia': None, 'cep': None, 'logradouro': None, 'numero_endereco': None, 'bairro': None, 'telefone': None, 'latitude': None, 'longitude': None, 'email': None}, {'codigo_uf': 53, 'uf': 'DF', 'codigo_municipio': 530010, 'municipio': 'Brasília', 'codigo_cnes': 0, 'data_posicao_estoque': '2024-02-05', 'codigo_catmat': 'BR0224955', 'descricao_produto': 'FIO DENTAL, RESINA TERMOPLÁSTICA/CERA E ESSÊNCIA, 50 M, REGULAR, NEUTRO', 'quantidade_estoque': 5094.0, 'numero_lote': '0823DCQ', 'data_validade': '2026-08-30 00:00:00-03', 'tipo_produto': 'O', 'sigla_programa_saude': 'AF', 'descricao_programa_saude': 'ASSISTÊNCIA FARMACÊUTICA', 'sigla_sistema_origem': 'HORUS', 'razao_social': None, 'nome_fantasia': None, 'cep': None, 'logradouro': None, 'numero_endereco': None, 'bairro': None, 'telefone': None, 'latitude': None, 'longitude': None, 'email': None}, {'codigo_uf': 53, 'uf': 'DF', 'codigo_municipio': 530010, 'municipio': 'Brasília', 'codigo_cnes': 0, 'data_posicao_estoque': '2024-02-05', 'codigo_catmat': 'BR0230092', 'descricao_produto': 'FRALDA DESCARTÁVEL, ADULTO, G, DIURNO E NOTURNO', 'quantidade_estoque': 261.0, 'numero_lote': '5198', 'data_validade': '2025-07-12 00:00:00-03', 'tipo_produto': 'O', 'sigla_programa_saude': 'ANTMICRO', 'descricao_programa_saude': 'ANTIMICROBIANOS', 'sigla_sistema_origem': 'HORUS', 'razao_social': None, 'nome_fantasia': None, 'cep': None, 'logradouro': None, 'numero_endereco': None, 'bairro': None, 'telefone': None, 'latitude': None, 'longitude': None, 'email': None}, {'codigo_uf': 53, 'uf': 'DF', 'codigo_municipio': 530010, 'municipio': 'Brasília', 'codigo_cnes': 0, 'data_posicao_estoque': '2024-02-05', 'codigo_catmat': 'BR0230093', 'descricao_produto': 'FRALDA DESCARTÁVEL, ADULTO, M, DIURNO E NOTURNO                                               ', 'quantidade_estoque': 40.0, 'numero_lote': '5199', 'data_validade': '2025-07-15 00:00:00-03', 'tipo_produto': 'O', 'sigla_programa_saude': 'ANTMICRO', 'descricao_programa_saude': 'ANTIMICROBIANOS', 'sigla_sistema_origem': 'HORUS', 'razao_social': None, 'nome_fantasia': None, 'cep': None, 'logradouro': None, 'numero_endereco': None, 'bairro': None, 'telefone': None, 'latitude': None, 'longitude': None, 'email': None}, {'codigo_uf': 53, 'uf': 'DF', 'codigo_municipio': 530010, 'municipio': 'Brasília', 'codigo_cnes': 0, 'data_posicao_estoque': '2024-02-05', 'codigo_catmat': 'BR0233632U0062', 'descricao_produto': 'ÓLEO MINERAL (PETROLATO) SOLUÇÃO ORAL 100 ML', 'quantidade_estoque': 1.0, 'numero_lote': '2323804', 'data_validade': '2025-07-30 00:00:00-03', 'tipo_produto': 'B', 'sigla_programa_saude': 'AF', 'descricao_programa_saude': 'ASSISTÊNCIA FARMACÊUTICA', 'sigla_sistema_origem': 'HORUS', 'razao_social': None, 'nome_fantasia': None, 'cep': None, 'logradouro': None, 'numero_endereco': None, 'bairro': None, 'telefone': None, 'latitude': None, 'longitude': None, 'email': None}]}\n",
      "\n",
      "Observation: \u001b[33;1m\u001b[1;3mAqui estão os últimos 5 registros do estoque de medicamentos do Distrito Federal (DF) com código UF 53:\n",
      "\n",
      "1. **Produto:** ATADURA ALGODÃO, ALGODÃO, 13 UN, 15 CM, 450 CM, CREPOM\n",
      "   - **Quantidade em Estoque:** 12.0\n",
      "   - **Número do Lote:** E2620\n",
      "   - **Data de Validade:** 2025-06-01\n",
      "   - **Programa de Saúde:** ALZHE (ALZHEIMER)\n",
      "   - **Data da Posição do Estoque:** 2024-02-05\n",
      "\n",
      "2. **Produto:** FIO DENTAL, RESINA TERMOPLÁSTICA/CERA E ESSÊNCIA, 50 M, REGULAR, NEUTRO\n",
      "   - **Quantidade em Estoque:** 5094.0\n",
      "   - **Número do Lote:** 0823DCQ\n",
      "   - **Data de Validade:** 2026-08-30\n",
      "   - **Programa de Saúde:** AF (ASSISTÊNCIA FARMACÊUTICA)\n",
      "   - **Data da Posição do Estoque:** 2024-02-05\n",
      "\n",
      "3. **Produto:** FRALDA DESCARTÁVEL, ADULTO, G, DIURNO E NOTURNO\n",
      "   - **Quantidade em Estoque:** 261.0\n",
      "   - **Número do Lote:** 5198\n",
      "   - **Data de Validade:** 2025-07-12\n",
      "   - **Programa de Saúde:** ANTMICRO (ANTIMICROBIANOS)\n",
      "   - **Data da Posição do Estoque:** 2024-02-05\n",
      "\n",
      "4. **Produto:** FRALDA DESCARTÁVEL, ADULTO, M, DIURNO E NOTURNO\n",
      "   - **Quantidade em Estoque:** 40.0\n",
      "   - **Número do Lote:** 5199\n",
      "   - **Data de Validade:** 2025-07-15\n",
      "   - **Programa de Saúde:** ANTMICRO (ANTIMICROBIANOS)\n",
      "   - **Data da Posição do Estoque:** 2024-02-05\n",
      "\n",
      "5. **Produto:** ÓLEO MINERAL (PETROLATO) SOLUÇÃO ORAL 100 ML\n",
      "   - **Quantidade em Estoque:** 1.0\n",
      "   - **Número do Lote:** 2323804\n",
      "   - **Data de Validade:** 2025-07-30\n",
      "   - **Programa de Saúde:** AF (ASSISTÊNCIA FARMACÊUTICA)\n",
      "   - **Data da Posição do Estoque:** 2024-02-05\n",
      "\n",
      "Esses registros refletem a situação do estoque em Brasília, DF, na data de 5 de fevereiro de 2024.\u001b[0m\n",
      "Thought:\u001b[32;1m\u001b[1;3mAgora que tenho as informações sobre os últimos 5 registros do estoque de medicamentos do DF, posso apresentar a resposta final.\n",
      "\n",
      "Final Answer: Aqui estão os últimos 5 registros do estoque de medicamentos do Distrito Federal (DF) com código UF 53:\n",
      "\n",
      "1. **Produto:** ATADURA ALGODÃO, ALGODÃO, 13 UN, 15 CM, 450 CM, CREPOM\n",
      "   - **Quantidade em Estoque:** 12.0\n",
      "   - **Número do Lote:** E2620\n",
      "   - **Data de Validade:** 2025-06-01\n",
      "   - **Programa de Saúde:** ALZHE (ALZHEIMER)\n",
      "   - **Data da Posição do Estoque:** 2024-02-05\n",
      "\n",
      "2. **Produto:** FIO DENTAL, RESINA TERMOPLÁSTICA/CERA E ESSÊNCIA, 50 M, REGULAR, NEUTRO\n",
      "   - **Quantidade em Estoque:** 5094.0\n",
      "   - **Número do Lote:** 0823DCQ\n",
      "   - **Data de Validade:** 2026-08-30\n",
      "   - **Programa de Saúde:** AF (ASSISTÊNCIA FARMACÊUTICA)\n",
      "   - **Data da Posição do Estoque:** 2024-02-05\n",
      "\n",
      "3. **Produto:** FRALDA DESCARTÁVEL, ADULTO, G, DIURNO E NOTURNO\n",
      "   - **Quantidade em Estoque:** 261.0\n",
      "   - **Número do Lote:** 5198\n",
      "   - **Data de Validade:** 2025-07-12\n",
      "   - **Programa de Saúde:** ANTMICRO (ANTIMICROBIANOS)\n",
      "   - **Data da Posição do Estoque:** 2024-02-05\n",
      "\n",
      "4. **Produto:** FRALDA DESCARTÁVEL, ADULTO, M, DIURNO E NOTURNO\n",
      "   - **Quantidade em Estoque:** 40.0\n",
      "   - **Número do Lote:** 5199\n",
      "   - **Data de Validade:** 2025-07-15\n",
      "   - **Programa de Saúde:** ANTMICRO (ANTIMICROBIANOS)\n",
      "   - **Data da Posição do Estoque:** 2024-02-05\n",
      "\n",
      "5. **Produto:** ÓLEO MINERAL (PETROLATO) SOLUÇÃO ORAL 100 ML\n",
      "   - **Quantidade em Estoque:** 1.0\n",
      "   - **Número do Lote:** 2323804\n",
      "   - **Data de Validade:** 2025-07-30\n",
      "   - **Programa de Saúde:** AF (ASSISTÊNCIA FARMACÊUTICA)\n",
      "   - **Data da Posição do Estoque:** 2024-02-05\n",
      "\n",
      "Esses registros refletem a situação do estoque em Brasília, DF, na data de 5 de fevereiro de 2024.\u001b[0m\n",
      "\n",
      "\u001b[1m> Finished chain.\u001b[0m\n"
     ]
    },
    {
     "data": {
      "text/plain": [
       "'Aqui estão os últimos 5 registros do estoque de medicamentos do Distrito Federal (DF) com código UF 53:\\n\\n1. **Produto:** ATADURA ALGODÃO, ALGODÃO, 13 UN, 15 CM, 450 CM, CREPOM\\n   - **Quantidade em Estoque:** 12.0\\n   - **Número do Lote:** E2620\\n   - **Data de Validade:** 2025-06-01\\n   - **Programa de Saúde:** ALZHE (ALZHEIMER)\\n   - **Data da Posição do Estoque:** 2024-02-05\\n\\n2. **Produto:** FIO DENTAL, RESINA TERMOPLÁSTICA/CERA E ESSÊNCIA, 50 M, REGULAR, NEUTRO\\n   - **Quantidade em Estoque:** 5094.0\\n   - **Número do Lote:** 0823DCQ\\n   - **Data de Validade:** 2026-08-30\\n   - **Programa de Saúde:** AF (ASSISTÊNCIA FARMACÊUTICA)\\n   - **Data da Posição do Estoque:** 2024-02-05\\n\\n3. **Produto:** FRALDA DESCARTÁVEL, ADULTO, G, DIURNO E NOTURNO\\n   - **Quantidade em Estoque:** 261.0\\n   - **Número do Lote:** 5198\\n   - **Data de Validade:** 2025-07-12\\n   - **Programa de Saúde:** ANTMICRO (ANTIMICROBIANOS)\\n   - **Data da Posição do Estoque:** 2024-02-05\\n\\n4. **Produto:** FRALDA DESCARTÁVEL, ADULTO, M, DIURNO E NOTURNO\\n   - **Quantidade em Estoque:** 40.0\\n   - **Número do Lote:** 5199\\n   - **Data de Validade:** 2025-07-15\\n   - **Programa de Saúde:** ANTMICRO (ANTIMICROBIANOS)\\n   - **Data da Posição do Estoque:** 2024-02-05\\n\\n5. **Produto:** ÓLEO MINERAL (PETROLATO) SOLUÇÃO ORAL 100 ML\\n   - **Quantidade em Estoque:** 1.0\\n   - **Número do Lote:** 2323804\\n   - **Data de Validade:** 2025-07-30\\n   - **Programa de Saúde:** AF (ASSISTÊNCIA FARMACÊUTICA)\\n   - **Data da Posição do Estoque:** 2024-02-05\\n\\nEsses registros refletem a situação do estoque em Brasília, DF, na data de 5 de fevereiro de 2024.'"
      ]
     },
     "execution_count": 3,
     "metadata": {},
     "output_type": "execute_result"
    }
   ],
   "source": [
    "question=\"Gostaria de saber os últimos 5 registro do estoque de medicamentos do DF com código UF 53.\"\n",
    "agent.invoke(question)"
   ]
  },
  {
   "cell_type": "code",
   "execution_count": 4,
   "id": "a25f7152",
   "metadata": {},
   "outputs": [
    {
     "name": "stdout",
     "output_type": "stream",
     "text": [
      "\n",
      "\n",
      "\u001b[1m> Entering new AgentExecutor chain...\u001b[0m\n",
      "\u001b[32;1m\u001b[1;3mO paracetamol é um medicamento amplamente utilizado para aliviar a dor e reduzir a febre. É considerado seguro quando usado nas doses recomendadas, mas pode causar danos ao fígado em doses excessivas. Vou buscar instruções de uso para fornecer informações mais detalhadas.\n",
      "\n",
      "Action: MedicineUsageInstructions  \n",
      "Action Input: \"instruções de uso do paracetamol\"  \u001b[0m\n",
      "\n",
      "\u001b[1m> Entering new GraphCypherQAChain chain...\u001b[0m\n",
      "Generated Cypher:\n",
      "\u001b[32;1m\u001b[1;3mcypher\n",
      "MATCH (d:Document)-[:MENTIONS]->(m:Medicamento {nome: 'paracetamol'})\n",
      "RETURN d.text\n",
      "\u001b[0m\n",
      "Full Context:\n",
      "\u001b[32;1m\u001b[1;3m[{'d.text': 'paracetamol  \\nAché Laboratórios Farmacêuticos S.A. C omprimidos revestidos 750 mg  \\nBULA PARA PACIENTE  \\nBula de acordo com a Resolução-RDC nº 47/2009  \\nI.IDENTIFICAÇÃO DO MEDICAMENTO  \\nparacetamol  \\nMedicamento Genérico Lei nº 9.787, de 1999  \\nAPRESENTAÇÕES  \\nComprimidos revestidos de 750 mg: embalagens com 20 ou 200 comprimidos.  \\nUSO ORAL  \\nUSO ADULTO E PEDIÁTRICO ACIMA DE 12 ANOS'}, {'d.text': 'USO ORAL  \\nUSO ADULTO E PEDIÁTRICO ACIMA DE 12 ANOS  \\nCOMPOSIÇÃO  \\nCada comprimido revestido contém:  \\nparacetamol..........................................................................................................................................750 mg  \\nExcipientes: povidona, amidoglicolato de sódio, amido, ácido esteárico, álcool polivinílico, macrogol, talco e dióxido de titânio.'}, {'d.text': '2. COMO ESTE MEDICAMENTO FUNCIONA?  \\nParacetamol reduz a febre atuando no centro regulador da temperatura no sistema nervoso central (SNC) e diminui a sensibilidade para a dor. Seu efeito tem início de 15 a 30 minutos após a administração oral e permanece por um período de 4 a 6 horas.  \\n3. QUANDO NÃO DEVO USAR ESTE MEDICAMENTO?'}, {'d.text': '3. QUANDO NÃO DEVO USAR ESTE MEDICAMENTO?  \\nVocê não deve usar paracetamol se tiver alergia ao paracetamol ou a qualquer componente de sua fórmula.  \\nEste medicamento é contraindicado para menores de 12 anos.  \\n4. O QUE DEVO SABER ANTES DE USAR ESTE MEDICAMENTO?'}, {'d.text': 'Uso com álcool: consumidores de doses abusivas de álcool devem consultar seu médico para saber se podem tomar paracetamol ou qualquer outro analgésico.  \\nGravidez e amamentação  \\nSe você estiver grávida ou amamentando, consulte o seu médico antes de usar este medicamento.  \\nEste medicamento não deve ser utilizado por mulheres grávidas sem orientação médica ou do cirurgião-dentista.'}, {'d.text': 'Muito raramente, foram relatadas reações cutâneas graves em pacientes que administraram paracetamol. Os sintomas podem incluir: vermelhidão na pele, bolhas e erupções cutâneas. Se ocorrerem reações cutâneas ou piora de problemas de pele já existentes, interrompa o uso do medicamento e procure ajuda médica imediatamente.  \\nNão use outro produto que contenha paracetamol.'}, {'d.text': \"Não use outro produto que contenha paracetamol.  \\nO paracetamol nas doses terapêuticas não foi associado à irritação gástrica.  \\nSe você tem pressão alta, não use este produto por mais tempo do que o indicado no item '6. Como devo usar este medicamento?', a menos que indicado por um médico.\"}]\u001b[0m\n",
      "\n",
      "\u001b[1m> Finished chain.\u001b[0m\n",
      "** QA chain results **\n",
      "{'query': 'instruções de uso do paracetamol', 'result': 'O paracetamol deve ser utilizado por via oral e é indicado para adultos e crianças acima de 12 anos. A apresentação é em comprimidos revestidos de 750 mg, disponíveis em embalagens com 20 ou 200 comprimidos. O efeito do medicamento começa de 15 a 30 minutos após a administração e dura de 4 a 6 horas. É importante não exceder a dose recomendada e não utilizar outros produtos que contenham paracetamol ao mesmo tempo. Se você tem pressão alta, não use o paracetamol por mais tempo do que o indicado, a menos que seu médico tenha orientado de outra forma.', 'intermediate_steps': [{'query': \"cypher\\nMATCH (d:Document)-[:MENTIONS]->(m:Medicamento {nome: 'paracetamol'})\\nRETURN d.text\\n\"}, {'context': [{'d.text': 'paracetamol  \\nAché Laboratórios Farmacêuticos S.A. C omprimidos revestidos 750 mg  \\nBULA PARA PACIENTE  \\nBula de acordo com a Resolução-RDC nº 47/2009  \\nI.IDENTIFICAÇÃO DO MEDICAMENTO  \\nparacetamol  \\nMedicamento Genérico Lei nº 9.787, de 1999  \\nAPRESENTAÇÕES  \\nComprimidos revestidos de 750 mg: embalagens com 20 ou 200 comprimidos.  \\nUSO ORAL  \\nUSO ADULTO E PEDIÁTRICO ACIMA DE 12 ANOS'}, {'d.text': 'USO ORAL  \\nUSO ADULTO E PEDIÁTRICO ACIMA DE 12 ANOS  \\nCOMPOSIÇÃO  \\nCada comprimido revestido contém:  \\nparacetamol..........................................................................................................................................750 mg  \\nExcipientes: povidona, amidoglicolato de sódio, amido, ácido esteárico, álcool polivinílico, macrogol, talco e dióxido de titânio.'}, {'d.text': '2. COMO ESTE MEDICAMENTO FUNCIONA?  \\nParacetamol reduz a febre atuando no centro regulador da temperatura no sistema nervoso central (SNC) e diminui a sensibilidade para a dor. Seu efeito tem início de 15 a 30 minutos após a administração oral e permanece por um período de 4 a 6 horas.  \\n3. QUANDO NÃO DEVO USAR ESTE MEDICAMENTO?'}, {'d.text': '3. QUANDO NÃO DEVO USAR ESTE MEDICAMENTO?  \\nVocê não deve usar paracetamol se tiver alergia ao paracetamol ou a qualquer componente de sua fórmula.  \\nEste medicamento é contraindicado para menores de 12 anos.  \\n4. O QUE DEVO SABER ANTES DE USAR ESTE MEDICAMENTO?'}, {'d.text': 'Uso com álcool: consumidores de doses abusivas de álcool devem consultar seu médico para saber se podem tomar paracetamol ou qualquer outro analgésico.  \\nGravidez e amamentação  \\nSe você estiver grávida ou amamentando, consulte o seu médico antes de usar este medicamento.  \\nEste medicamento não deve ser utilizado por mulheres grávidas sem orientação médica ou do cirurgião-dentista.'}, {'d.text': 'Muito raramente, foram relatadas reações cutâneas graves em pacientes que administraram paracetamol. Os sintomas podem incluir: vermelhidão na pele, bolhas e erupções cutâneas. Se ocorrerem reações cutâneas ou piora de problemas de pele já existentes, interrompa o uso do medicamento e procure ajuda médica imediatamente.  \\nNão use outro produto que contenha paracetamol.'}, {'d.text': \"Não use outro produto que contenha paracetamol.  \\nO paracetamol nas doses terapêuticas não foi associado à irritação gástrica.  \\nSe você tem pressão alta, não use este produto por mais tempo do que o indicado no item '6. Como devo usar este medicamento?', a menos que indicado por um médico.\"}]}]}\n",
      "[{'d.text': 'paracetamol  \\nAché Laboratórios Farmacêuticos S.A. C omprimidos revestidos 750 mg  \\nBULA PARA PACIENTE  \\nBula de acordo com a Resolução-RDC nº 47/2009  \\nI.IDENTIFICAÇÃO DO MEDICAMENTO  \\nparacetamol  \\nMedicamento Genérico Lei nº 9.787, de 1999  \\nAPRESENTAÇÕES  \\nComprimidos revestidos de 750 mg: embalagens com 20 ou 200 comprimidos.  \\nUSO ORAL  \\nUSO ADULTO E PEDIÁTRICO ACIMA DE 12 ANOS'}, {'d.text': 'USO ORAL  \\nUSO ADULTO E PEDIÁTRICO ACIMA DE 12 ANOS  \\nCOMPOSIÇÃO  \\nCada comprimido revestido contém:  \\nparacetamol..........................................................................................................................................750 mg  \\nExcipientes: povidona, amidoglicolato de sódio, amido, ácido esteárico, álcool polivinílico, macrogol, talco e dióxido de titânio.'}, {'d.text': '2. COMO ESTE MEDICAMENTO FUNCIONA?  \\nParacetamol reduz a febre atuando no centro regulador da temperatura no sistema nervoso central (SNC) e diminui a sensibilidade para a dor. Seu efeito tem início de 15 a 30 minutos após a administração oral e permanece por um período de 4 a 6 horas.  \\n3. QUANDO NÃO DEVO USAR ESTE MEDICAMENTO?'}, {'d.text': '3. QUANDO NÃO DEVO USAR ESTE MEDICAMENTO?  \\nVocê não deve usar paracetamol se tiver alergia ao paracetamol ou a qualquer componente de sua fórmula.  \\nEste medicamento é contraindicado para menores de 12 anos.  \\n4. O QUE DEVO SABER ANTES DE USAR ESTE MEDICAMENTO?'}, {'d.text': 'Uso com álcool: consumidores de doses abusivas de álcool devem consultar seu médico para saber se podem tomar paracetamol ou qualquer outro analgésico.  \\nGravidez e amamentação  \\nSe você estiver grávida ou amamentando, consulte o seu médico antes de usar este medicamento.  \\nEste medicamento não deve ser utilizado por mulheres grávidas sem orientação médica ou do cirurgião-dentista.'}, {'d.text': 'Muito raramente, foram relatadas reações cutâneas graves em pacientes que administraram paracetamol. Os sintomas podem incluir: vermelhidão na pele, bolhas e erupções cutâneas. Se ocorrerem reações cutâneas ou piora de problemas de pele já existentes, interrompa o uso do medicamento e procure ajuda médica imediatamente.  \\nNão use outro produto que contenha paracetamol.'}, {'d.text': \"Não use outro produto que contenha paracetamol.  \\nO paracetamol nas doses terapêuticas não foi associado à irritação gástrica.  \\nSe você tem pressão alta, não use este produto por mais tempo do que o indicado no item '6. Como devo usar este medicamento?', a menos que indicado por um médico.\"}]\n",
      "** Vector similarity results **\n",
      "[Document(metadata={}, page_content='paracetamol  \\nAché Laboratórios Farmacêuticos S.A. C omprimidos revestidos 750 mg  \\nBULA PARA PACIENTE  \\nBula de acordo com a Resolução-RDC nº 47/2009  \\nI.IDENTIFICAÇÃO DO MEDICAMENTO  \\nparacetamol  \\nMedicamento Genérico Lei nº 9.787, de 1999  \\nAPRESENTAÇÕES  \\nComprimidos revestidos de 750 mg: embalagens com 20 ou 200 comprimidos.  \\nUSO ORAL  \\nUSO ADULTO E PEDIÁTRICO ACIMA DE 12 ANOS'), Document(metadata={}, page_content='USO ORAL  \\nUSO ADULTO E PEDIÁTRICO ACIMA DE 12 ANOS  \\nCOMPOSIÇÃO  \\nCada comprimido revestido contém:  \\nparacetamol..........................................................................................................................................750 mg  \\nExcipientes: povidona, amidoglicolato de sódio, amido, ácido esteárico, álcool polivinílico, macrogol, talco e dióxido de titânio.'), Document(metadata={}, page_content='3. QUANDO NÃO DEVO USAR ESTE MEDICAMENTO?  \\nVocê não deve usar paracetamol se tiver alergia ao paracetamol ou a qualquer componente de sua fórmula.  \\nEste medicamento é contraindicado para menores de 12 anos.  \\n4. O QUE DEVO SABER ANTES DE USAR ESTE MEDICAMENTO?'), Document(metadata={}, page_content=\"Não use outro produto que contenha paracetamol.  \\nO paracetamol nas doses terapêuticas não foi associado à irritação gástrica.  \\nSe você tem pressão alta, não use este produto por mais tempo do que o indicado no item '6. Como devo usar este medicamento?', a menos que indicado por um médico.\")]\n",
      "\n",
      "\n",
      " Context:\n",
      " \n",
      "        # Structured data:\n",
      "        [{'d.text': 'paracetamol  \\nAché Laboratórios Farmacêuticos S.A. C omprimidos revestidos 750 mg  \\nBULA PARA PACIENTE  \\nBula de acordo com a Resolução-RDC nº 47/2009  \\nI.IDENTIFICAÇÃO DO MEDICAMENTO  \\nparacetamol  \\nMedicamento Genérico Lei nº 9.787, de 1999  \\nAPRESENTAÇÕES  \\nComprimidos revestidos de 750 mg: embalagens com 20 ou 200 comprimidos.  \\nUSO ORAL  \\nUSO ADULTO E PEDIÁTRICO ACIMA DE 12 ANOS'}, {'d.text': 'USO ORAL  \\nUSO ADULTO E PEDIÁTRICO ACIMA DE 12 ANOS  \\nCOMPOSIÇÃO  \\nCada comprimido revestido contém:  \\nparacetamol..........................................................................................................................................750 mg  \\nExcipientes: povidona, amidoglicolato de sódio, amido, ácido esteárico, álcool polivinílico, macrogol, talco e dióxido de titânio.'}, {'d.text': '2. COMO ESTE MEDICAMENTO FUNCIONA?  \\nParacetamol reduz a febre atuando no centro regulador da temperatura no sistema nervoso central (SNC) e diminui a sensibilidade para a dor. Seu efeito tem início de 15 a 30 minutos após a administração oral e permanece por um período de 4 a 6 horas.  \\n3. QUANDO NÃO DEVO USAR ESTE MEDICAMENTO?'}, {'d.text': '3. QUANDO NÃO DEVO USAR ESTE MEDICAMENTO?  \\nVocê não deve usar paracetamol se tiver alergia ao paracetamol ou a qualquer componente de sua fórmula.  \\nEste medicamento é contraindicado para menores de 12 anos.  \\n4. O QUE DEVO SABER ANTES DE USAR ESTE MEDICAMENTO?'}, {'d.text': 'Uso com álcool: consumidores de doses abusivas de álcool devem consultar seu médico para saber se podem tomar paracetamol ou qualquer outro analgésico.  \\nGravidez e amamentação  \\nSe você estiver grávida ou amamentando, consulte o seu médico antes de usar este medicamento.  \\nEste medicamento não deve ser utilizado por mulheres grávidas sem orientação médica ou do cirurgião-dentista.'}, {'d.text': 'Muito raramente, foram relatadas reações cutâneas graves em pacientes que administraram paracetamol. Os sintomas podem incluir: vermelhidão na pele, bolhas e erupções cutâneas. Se ocorrerem reações cutâneas ou piora de problemas de pele já existentes, interrompa o uso do medicamento e procure ajuda médica imediatamente.  \\nNão use outro produto que contenha paracetamol.'}, {'d.text': \"Não use outro produto que contenha paracetamol.  \\nO paracetamol nas doses terapêuticas não foi associado à irritação gástrica.  \\nSe você tem pressão alta, não use este produto por mais tempo do que o indicado no item '6. Como devo usar este medicamento?', a menos que indicado por um médico.\"}]\n",
      "\n",
      "        # Unstructured data:\n",
      "        paracetamol  \n",
      "Aché Laboratórios Farmacêuticos S.A. C omprimidos revestidos 750 mg  \n",
      "BULA PARA PACIENTE  \n",
      "Bula de acordo com a Resolução-RDC nº 47/2009  \n",
      "I.IDENTIFICAÇÃO DO MEDICAMENTO  \n",
      "paracetamol  \n",
      "Medicamento Genérico Lei nº 9.787, de 1999  \n",
      "APRESENTAÇÕES  \n",
      "Comprimidos revestidos de 750 mg: embalagens com 20 ou 200 comprimidos.  \n",
      "USO ORAL  \n",
      "USO ADULTO E PEDIÁTRICO ACIMA DE 12 ANOS\n",
      "USO ORAL  \n",
      "USO ADULTO E PEDIÁTRICO ACIMA DE 12 ANOS  \n",
      "COMPOSIÇÃO  \n",
      "Cada comprimido revestido contém:  \n",
      "paracetamol..........................................................................................................................................750 mg  \n",
      "Excipientes: povidona, amidoglicolato de sódio, amido, ácido esteárico, álcool polivinílico, macrogol, talco e dióxido de titânio.\n",
      "3. QUANDO NÃO DEVO USAR ESTE MEDICAMENTO?  \n",
      "Você não deve usar paracetamol se tiver alergia ao paracetamol ou a qualquer componente de sua fórmula.  \n",
      "Este medicamento é contraindicado para menores de 12 anos.  \n",
      "4. O QUE DEVO SABER ANTES DE USAR ESTE MEDICAMENTO?\n",
      "Não use outro produto que contenha paracetamol.  \n",
      "O paracetamol nas doses terapêuticas não foi associado à irritação gástrica.  \n",
      "Se você tem pressão alta, não use este produto por mais tempo do que o indicado no item '6. Como devo usar este medicamento?', a menos que indicado por um médico.\n",
      "        \n",
      "\n",
      "Observation: \u001b[36;1m\u001b[1;3mAs instruções de uso do paracetamol são as seguintes:\n",
      "\n",
      "1. **Apresentação**: O paracetamol está disponível em comprimidos revestidos de 750 mg, em embalagens com 20 ou 200 comprimidos.\n",
      "\n",
      "2. **Indicação**: É indicado para uso oral em adultos e em crianças acima de 12 anos.\n",
      "\n",
      "3. **Como funciona**: O paracetamol reduz a febre e diminui a sensibilidade à dor. Seu efeito começa de 15 a 30 minutos após a administração oral e dura de 4 a 6 horas.\n",
      "\n",
      "4. **Contraindicações**: \n",
      "   - Não deve ser utilizado por pessoas que tenham alergia ao paracetamol ou a qualquer componente da fórmula.\n",
      "   - É contraindicado para menores de 12 anos.\n",
      "\n",
      "5. **Precauções**:\n",
      "   - Consumidores de doses abusivas de álcool devem consultar um médico antes de usar paracetamol.\n",
      "   - Mulheres grávidas ou que estão amamentando devem consultar um médico antes de usar o medicamento.\n",
      "   - Não use outro produto que contenha paracetamol.\n",
      "\n",
      "6. **Uso em caso de pressão alta**: Se você tem pressão alta, não utilize o paracetamol por mais tempo do que o indicado, a menos que seja orientado por um médico.\n",
      "\n",
      "7. **Efeitos colaterais**: Muito raramente, podem ocorrer reações cutâneas graves, como vermelhidão na pele, bolhas e erupções cutâneas. Se isso ocorrer, interrompa o uso e procure ajuda médica imediatamente.\n",
      "\n",
      "É importante seguir as orientações do médico e as instruções na bula para garantir o uso seguro e eficaz do medicamento.\u001b[0m\n",
      "Thought:\u001b[32;1m\u001b[1;3mI now know the final answer.  \n",
      "Final Answer: O paracetamol é um medicamento amplamente utilizado para aliviar a dor e reduzir a febre. Ele está disponível em comprimidos de 750 mg e é indicado para adultos e crianças acima de 12 anos. O efeito começa de 15 a 30 minutos após a administração e dura de 4 a 6 horas. É contraindicado para pessoas alérgicas ao paracetamol e para menores de 12 anos. Precauções devem ser tomadas por consumidores de álcool, mulheres grávidas ou lactantes, e em casos de pressão alta. Efeitos colaterais raros incluem reações cutâneas graves. É importante seguir as orientações médicas e as instruções na bula.\u001b[0m\n",
      "\n",
      "\u001b[1m> Finished chain.\u001b[0m\n"
     ]
    },
    {
     "data": {
      "text/plain": [
       "'O paracetamol é um medicamento amplamente utilizado para aliviar a dor e reduzir a febre. Ele está disponível em comprimidos de 750 mg e é indicado para adultos e crianças acima de 12 anos. O efeito começa de 15 a 30 minutos após a administração e dura de 4 a 6 horas. É contraindicado para pessoas alérgicas ao paracetamol e para menores de 12 anos. Precauções devem ser tomadas por consumidores de álcool, mulheres grávidas ou lactantes, e em casos de pressão alta. Efeitos colaterais raros incluem reações cutâneas graves. É importante seguir as orientações médicas e as instruções na bula.'"
      ]
     },
     "execution_count": 4,
     "metadata": {},
     "output_type": "execute_result"
    }
   ],
   "source": [
    "agent.invoke(\"O que você sabe sobre o paracetamol?\")"
   ]
  }
 ],
 "metadata": {
  "kernelspec": {
   "display_name": ".venv",
   "language": "python",
   "name": "python3"
  },
  "language_info": {
   "codemirror_mode": {
    "name": "ipython",
    "version": 3
   },
   "file_extension": ".py",
   "mimetype": "text/x-python",
   "name": "python",
   "nbconvert_exporter": "python",
   "pygments_lexer": "ipython3",
   "version": "3.12.7"
  }
 },
 "nbformat": 4,
 "nbformat_minor": 5
}
