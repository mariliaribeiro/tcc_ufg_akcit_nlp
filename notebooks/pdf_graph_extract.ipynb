{
 "cells": [
  {
   "cell_type": "markdown",
   "id": "6f673977",
   "metadata": {},
   "source": [
    "# Extração de grafos de conhecimento de bulas de medicamentos de arquivos PDF extraídos do bulário eletrônico da ANVISA\n",
    "\n",
    "\n",
    "**Materiais úteis**\n",
    "- [Preparing PDFs for RAGs: um comparativo entre bibliotecas](https://towardsdatascience.com/preparing-pdfs-for-rags-b1579fc697f1/)\n",
    "- [Build a knowledge graph from documents using Docling](https://alain-airom.medium.com/build-a-knowledge-graph-from-documents-using-docling-8bc05e1389f7)\n",
    "- [Comprehensive Guide to Chunking in LLM and RAG Systems](https://kshitijkutumbe.medium.com/comprehensive-guide-to-chunking-in-llm-and-rag-systems-c579a11ce6e2)\n",
    "- [Building Knowledge Graphs with LLM Graph Transformer](https://medium.com/data-science/building-knowledge-graphs-with-llm-graph-transformer-a91045c49b59)\n",
    "- [How to construct knowledge graphs](https://python.langchain.com/docs/how_to/graph_constructing/)\n",
    "- [Geração com Recuperação Aumentada (RAG) em\n",
    "Grafos de Conhecimento](https://books-sol.sbc.org.br/index.php/sbc/catalog/download/153/658/1179?inline=1)"
   ]
  },
  {
   "cell_type": "code",
   "execution_count": 18,
   "id": "b1a71e49",
   "metadata": {},
   "outputs": [],
   "source": [
    "# Rodar somente quando estiver fazendo a preparaçaõ do ambiente de desenvolvimento para fazer o download da biblioteca\n",
    "# !python3 -m spacy download pt_core_news_md"
   ]
  },
  {
   "cell_type": "code",
   "execution_count": 19,
   "id": "09f4a513",
   "metadata": {},
   "outputs": [],
   "source": [
    "from src.config import RAW_DATA_DIR, PROCESSED_DATA_DIR\n",
    "from src.data_processing.pdf_and_markdown_pipeline import PdfAndMarkdownPipeline\n",
    "from src.data_processing.chunks import HEADERS_TO_SPLIT_ON\n",
    "\n",
    "from src.connetion.gen_ai_connection import LLMModel\n",
    "from src.kg.kg_from_text import KGFromText\n",
    "\n",
    "\n",
    "FILE_NAME = \"bula_1748876242121.pdf\"\n",
    "PDF_FILE_PATH = f\"{RAW_DATA_DIR}/{FILE_NAME}\"\n",
    "MD_FILE_PATH = f\"{PROCESSED_DATA_DIR}/{FILE_NAME}.md\"\n",
    "\n",
    "\n",
    "chunk_size = 400\n",
    "chunk_overlap = 100\n",
    "headers_to_split_on = HEADERS_TO_SPLIT_ON\n",
    "\n",
    "provider = \"openai\"\n",
    "temperature = 0.7\n",
    "max_tokens = None\n",
    "\n",
    "figsize = (10, 8)\n",
    "show_node_properties = False"
   ]
  },
  {
   "cell_type": "markdown",
   "id": "131a6618",
   "metadata": {},
   "source": [
    "A classe PdfAndMarkdownPipeline possui as seguintes funcionalidades:\n",
    "- Converte um arquivo pdf para markdown\n",
    "- Carrega o conteúdo de um arquivo markdown e gera os chunks do arquivo\n",
    "- Os chunks são gerados em duas etapas: a primeira divisão se dá pelo título das seções e depois divide o conteúdo das seções de acordo com o tamanho dos chunks configurados"
   ]
  },
  {
   "cell_type": "code",
   "execution_count": 20,
   "id": "4163eaf2",
   "metadata": {},
   "outputs": [],
   "source": [
    "pdf_md_pipeline = PdfAndMarkdownPipeline()"
   ]
  },
  {
   "cell_type": "code",
   "execution_count": 21,
   "id": "c4e5577a",
   "metadata": {},
   "outputs": [],
   "source": [
    "# Executar somente quando for converter um pdf para markdown\n",
    "# pdf_md_pipeline.pdf_to_markdown(\n",
    "#     source_file_path=PDF_FILE_PATH,\n",
    "#     dest_dir_path=PROCESSED_DATA_DIR\n",
    "# )"
   ]
  },
  {
   "cell_type": "code",
   "execution_count": 22,
   "id": "1c19f67e",
   "metadata": {},
   "outputs": [
    {
     "name": "stderr",
     "output_type": "stream",
     "text": [
      "INFO:src.data_processing.pdf_and_markdown_pipeline:Document /home/marilia/git/pos/tcc_ufg_akcit_nlp/data/processed/bula_1748876242121.pdf.md loaded.\n"
     ]
    },
    {
     "data": {
      "text/plain": [
       "[Document(metadata={'source': '/home/marilia/git/pos/tcc_ufg_akcit_nlp/data/processed/bula_1748876242121.pdf.md'}, page_content=\"paracetamol\\n\\nAché Laboratórios Farmacêuticos S.A. C omprimidos revestidos 750 mg\\n\\nBULA PARA PACIENTE\\n\\nBula de acordo com a Resolução-RDC nº 47/2009\\n\\nI.IDENTIFICAÇÃO DO MEDICAMENTO\\n\\nparacetamol\\n\\nMedicamento Genérico Lei nº 9.787, de 1999\\n\\nAPRESENTAÇÕES\\n\\nComprimidos revestidos de 750 mg: embalagens com 20 ou 200 comprimidos.\\n\\nUSO ORAL\\n\\nUSO ADULTO E PEDIÁTRICO ACIMA DE 12 ANOS\\n\\nCOMPOSIÇÃO\\n\\nCada comprimido revestido contém:\\n\\nparacetamol..........................................................................................................................................750 mg\\n\\nExcipientes: povidona, amidoglicolato de sódio, amido, ácido esteárico, álcool polivinílico, macrogol, talco e dióxido de titânio.\\n\\nII. INFORMAÇÕES AO PACIENTE\\n\\n1. PARA QUE ESTE MEDICAMENTO É INDICADO?\\n\\nEste medicamento é indicado para a redução da febre e para o alívio temporário de dores leves a moderadas, tais como dores associadas a resfriados comuns, dor de cabeça, dor no corpo, dor de dente, dor nas costas, dores musculares, dores leves associadas a artrites e cólicas menstruais.\\n\\n2. COMO ESTE MEDICAMENTO FUNCIONA?\\n\\nParacetamol reduz a febre atuando no centro regulador da temperatura no sistema nervoso central (SNC) e diminui a sensibilidade para a dor. Seu efeito tem início de 15 a 30 minutos após a administração oral e permanece por um período de 4 a 6 horas.\\n\\n3. QUANDO NÃO DEVO USAR ESTE MEDICAMENTO?\\n\\nVocê não deve usar paracetamol se tiver alergia ao paracetamol ou a qualquer componente de sua fórmula.\\n\\nEste medicamento é contraindicado para menores de 12 anos.\\n\\n4. O QUE DEVO SABER ANTES DE USAR ESTE MEDICAMENTO?\\n\\nVocê não deve tomar mais do que a dose recomendada (superdose) para provocar maior alívio, pois pode causar sérios problemas de saúde. Você deve consultar seu médico se a dor ou febre continuar ou piorar, ou se surgirem novos sintomas, pois estes sintomas podem ser sinais de doenças graves.\\n\\nUso com álcool: consumidores de doses abusivas de álcool devem consultar seu médico para saber se podem tomar paracetamol ou qualquer outro analgésico.\\n\\nGravidez e amamentação\\n\\nSe você estiver grávida ou amamentando, consulte o seu médico antes de usar este medicamento.\\n\\nEste medicamento não deve ser utilizado por mulheres grávidas sem orientação médica ou do cirurgião-dentista.\\n\\nUso em pacientes com problemas no fígado: consulte seu médico antes de usar o medicamento.\\n\\nUso em idosos: até o momento não são conhecidas restrições específicas ao uso de paracetamol por pacientes idosos. Não existe necessidade de ajuste da dose neste grupo etário.\\n\\nMuito raramente, foram relatadas reações cutâneas graves em pacientes que administraram paracetamol. Os sintomas podem incluir: vermelhidão na pele, bolhas e erupções cutâneas. Se ocorrerem reações cutâneas ou piora de problemas de pele já existentes, interrompa o uso do medicamento e procure ajuda médica imediatamente.\\n\\nNão use outro produto que contenha paracetamol.\\n\\nO paracetamol nas doses terapêuticas não foi associado à irritação gástrica.\\n\\nSe você tem pressão alta, não use este produto por mais tempo do que o indicado no item '6. Como devo usar este medicamento?', a menos que indicado por um médico.\\n\\nA absorção de paracetamol é mais rápida se você estiver em jejum. Os alimentos podem afetar a velocidade da absorção, mas não a quantidade absorvida do medicamento. A interferência do paracetamol na metabolização de outros medicamentos e a influência destes medicamentos na ação e na toxicidade do paracetamol, em geral, não são relevantes.\\n\\nConsulte seu médico antes de utilizar este medicamento se você estiver tomando flucloxacilina (penicilina - um antibiótico), varfarina (anticoagulante) ou outros derivados cumarínicos.\\n\\nInforme ao seu médico ou cirurgião-dentista se você está fazendo uso de algum outro medicamento.\\n\\n5. ONDE, COMO E POR QUANTO TEMPO POSSO GUARDAR ESTE MEDICAMENTO?\\n\\nConservar em temperatura ambiente (entre 15 e 30°C). Proteger da luz e umidade.\\n\\nNúmero de lote e datas de fabricação e validade: vide embalagem.\\n\\nNão use medicamento com o prazo de validade vencido. Guarde-o em sua embalagem original.\\n\\nCaracterísticas físicas e organolépticas: comprimidos revestidos brancos, de formato oblongo, biconvexos e lisos dos dois lados.\\n\\nAntes de usar, observe o aspecto do medicamento. Caso ele esteja no prazo de validade e você observe alguma mudança no aspecto, consulte o farmacêutico para saber se poderá utilizá-lo.\\n\\nTODO MEDICAMENTO DEVE SER MANTIDO FORA DO ALCANCE DAS CRIANÇAS .\\n\\n6. COMO DEVO USAR ESTE MEDICAMENTO?\\n\\nUso oral. Você deve tomar os comprimidos com líquido. O paracetamol pode ser administrado independentemente das refeições.\\n\\nAdultos e crianças acima de 12 anos: paracetamol 750 mg: 1 comprimido, 3 a 5 vezes ao dia.\\n\\nA dose diária máxima recomendada de paracetamol é de 4000 mg (8 comprimidos de paracetamol 500 mg ou 5 comprimidos de paracetamol 750 mg) administrada em doses fracionadas, não excedendo 1000 mg/dose (2 comprimidos de paracetamol 500 mg ou 1 comprimido de paracetamol 750 mg), em intervalos de 4 a 6 horas, em um período de 24 horas.\\n\\nDuração do tratamento: depende do desaparecimento dos sintomas.\\n\\nEste medicamento não deve ser partido, aberto ou mastigado.\\n\\nSiga corretamente o modo de usar. Em caso de dúvidas sobre este medicamento, procure orientação do farmacêutico. Não desaparecendo os sintomas, procure orientação de seu médico ou cirurgião-dentista.\\n\\n7. O QUE DEVO FAZER QUANDO EU ME ESQUECER DE USAR ESTE MEDICAMENTO?\\n\\nSe você se esquecer de tomar uma dose do medicamento, tome-a assim que se lembrar, no caso de ainda haver necessidade, e então ajuste o horário das próximas tomadas. Não tome a dose dobrada para compensar a dose esquecida.\\n\\nEm caso de dúvidas, procure orientação do farmacêutico ou de seu médico, ou cirurgião-dentista.\\n\\n8. QUAIS OS MALES QUE ESTE MEDICAMENTO PODE ME CAUSAR?\\n\\nEste medicamento pode causar algumas reações desagradáveis inesperadas. Caso você tenha uma reação alérgica, deve parar de tomar o medicamento.\\n\\nReações muito raras (ocorrem em menos de 0,01% dos pacientes que utilizam este medicamento): urticária, coceira e vermelhidão no corpo, reações alérgicas a este medicamento, aumento das transaminases e erupção fixa medicamentosa.\\n\\nInforme ao seu médico, cirurgião-dentista ou farmacêutico o aparecimento de reações indesejáveis pelo uso do medicamento. Informe também à empresa através do seu serviço de atendimento.\\n\\n9. O QUE FAZER SE ALGUÉM USAR UMA QUANTIDADE MAIOR DO QUE A INDICADA DESTE MEDICAMENTO?\\n\\nO uso de doses excessivas, acima das doses recomendadas (superdose), pode causar danos ao fígado. Em caso de superdose, procure ajuda médica ou um centro de intoxicação imediatamente. O apoio médico\\n\\nimediato é fundamental para adultos e crianças, mesmo se os sinais e sintomas de intoxicação não estiverem presentes.\\n\\nOs sinais e sintomas iniciais que se seguem a uma dose potencialmente hepatotóxica de paracetamol são: perda de apetite, náusea, vômito, sudorese intensa, palidez e mal-estar geral.\\n\\nEm caso de uso de grande quantidade deste medicamento, procure rapidamente socorro médico e leve a embalagem ou bula do medicamento, se possível. Ligue para 0800 722 6001, se você precisar de mais orientações.\\n\\nIII. DIZERES LEGAIS\\n\\nMS - 1.0573.0651\\n\\nFarmacêutica Responsável: Gabriela Mallmann - CRF-SP nº 30.138\\n\\nRegistrado por:\\n\\nAché Laboratórios Farmacêuticos S.A. Av. Brigadeiro Faria Lima, 201 - 20º andar São Paulo - SP CNPJ 60.659.463/0029-92 Indústria Brasileira\\n\\nFabricado por:\\n\\nAché Laboratórios Farmacêuticos S.A.\\n\\nGuarulhos - SP\\n\\nOu\\n\\nFabricado por:\\n\\nAché Laboratórios Farmacêuticos S.A.\\n\\nCabo de Santo Agostinho - PE\\n\\nOu\\n\\nEmbalado por: Serpac Comércio e Indústria Ltda. São Paulo - SP\\n\\nSiga corretamente o modo de usar, não desaparecendo os sintomas procure orientação médica.\\n\\nHistórico de Alterações da Bula\\n\\nDados da submissão eletrônica Dados da submissão eletrônica Dados da submissão eletrônica Dados da petição/notificação que altera a bula Dados da petição/notificação que altera a bula Dados da petição/notificação que altera a bula Dados da petição/notificação que altera a bula Dados das alterações de bulas Dados das alterações de bulas Dados das alterações de bulas Data do expediente Nº do expediente Assunto Data do expediente Nº do expediente Assunto Data de aprovação Itens de bula Versões (VP/VPS) Apresentações relacionadas 30/04/2014 0331095/14-7 10459- GENÉRICO - Inclusão Inicial de Texto de Bula - RDC 60/12 NA NA NA NA Inclusão inicial de acordo com a bula do medicamento referência publicada no bulário eletrônico (Adequação à RDC 47/09 ) VP/VPS Comprimidos revestidos 750 mg 04/03/2015 0193902/15-5 10452- GENÉRICO - Notificação de Alteração de Texto de Bula - RDC 60/12 NA NA NA NA Atualização de acordo com a bula do medicamento referência publicada no bulário eletrônico. VP/VPS Comprimidos revestidos 750 mg 12/05/2018 0380491/18-7 10452- GENÉRICO - Notificação de Alteração de Texto de Bula - RDC 60/12 NA NA NA NA VP 4. o que devo saber antes de usar este medicamento? 9. o que fazer se alguém usar uma quantidade maior do que a indicada deste medicamento? VPS 5. advertências e precauções 10. superdose VP/VPS Comprimidos revestidos 750 mg 11/06/2019 0517353/19-1 10452- GENÉRICO - Notificação de Alteração de Texto de Bula - RDC 60/12 12/12/2018 1212139/18-8 1959 - GENERICO - Solicitação de Transferência de Titularidade de Registro (Incorporação de Empresa) 11/02/2019 VP III - Dizeres Legais VPS 9. Reações Adversas III - Dizeres Legais VP/VPS Comprimidos revestidos 750 mg 02/12/2019 3323277/19-6 10452- GENÉRICO - Notificação de Alteração de Texto de Bula - RDC 60/12 NA NA NA NA VP 8. Quais os males este medicamento pode me causar? VPS 9. Reações Adversas VP/VPS Comprimidos revestidos 750 mg\\n\\nDados da submissão eletrônica Dados da submissão eletrônica Dados da submissão eletrônica Dados da petição/notificação que altera a bula Dados da petição/notificação que altera a bula Dados da petição/notificação que altera a bula Dados da petição/notificação que altera a bula Dados das alterações de bulas Dados das alterações de bulas Dados das alterações de bulas Data do expediente Nº do expediente Assunto Data do expediente Nº do expediente Assunto Data de aprovação Itens de bula Versões (VP/VPS) Apresentações relacionadas 25/06/2020 2027224/20-3 10452- GENÉRICO - Notificação de Alteração de Texto de Bula - RDC 60/12 17/06/2020 1919500/20-1 11016 - RDC73/2016 - GENÉRICO - Inclusão de local de embalagem primária do medicamento III. DIZERES LEGAIS VP/VPS Comprimidos revestidos 750 mg 08/04/2021 1348586/21-5 10452- GENÉRICO - Notificação de Alteração de Texto de Bula - publicação no bulário RDC 60/12 NA NA NA NA VPS 9. REAÇÕES ADVERSAS VPS Comprimidos revestidos 750 mg 27/04/2022 2549269/22-5 10452 - GENÉRICO - Notificação de Alteração de Texto de Bula -publicação no bulário - RDC 60/12 NA NA NA NA VP 1.PARA QUE ESTE MEDICAMENTO É INDICADO 4. OQUEDEVOSABER ANTES DE USAR ESTE MEDICAMENTO? VPS 1.INDICAÇÕES 2.RESULTADOS DE EFICÁCIA 3.CARACTERÍSTICAS FARMACOLÓGICAS 5. ADVERTÊNCIAS E PRECAUÇÕES 6. INTERAÇÕES MEDICAMENTOSAS 7. CUIDADOS DE ARMAZENAMENTO DO MEDICAMENTO 8. POSOLOGIA E MODO DE USAR 9. REAÇÕES ADVERSAS 10. SUPERDOSE VP/VPS Comprimidos revestidos 750 mg\\n\\nDados da submissão eletrônica Dados da submissão eletrônica Dados da submissão eletrônica Dados da petição/notificação que altera a bula Dados da petição/notificação que altera a bula Dados da petição/notificação que altera a bula Dados da petição/notificação que altera a bula Dados das alterações de bulas Dados das alterações de bulas Dados das alterações de bulas Data do expediente Nº do expediente Assunto Data do expediente Nº do expediente Assunto Data de aprovação Itens de bula Versões (VP/VPS) Apresentações relacionadas 02/05/2024 0580590/24-1 10452 - GENÉRICO - Notificação de Alteração de Texto de Bula -publicação no bulário - RDC 60/12 N/A N/A N/A N/A VP 4.O QUE DEVO SABER ANTES DE USAR ESTE MEDICAMENTO? VPS 5. ADVERTÊNCIAS E PRECAUÇÕES VP/VPS Comprimidos revestidos 750 mg 26 /11/2024 - 10452 - GENÉRICO - Notificação de Alteração de Texto de Bula -publicação no bulário - RDC 60/12 29/10/2024 1481130/24-8 11022 - RDC 73/2016 - GENÉRICO - Inclusão de local de fabricação de medicamento de liberação convencional III. DIZERES LEGAIS VP/VPS Comprimidos revestidos 750 mg\")]"
      ]
     },
     "execution_count": 22,
     "metadata": {},
     "output_type": "execute_result"
    }
   ],
   "source": [
    "# Executar sempre que for ler o conteúdo do markdown\n",
    "pdf_md_pipeline.load_markdown(\n",
    "    source_file_path=MD_FILE_PATH\n",
    ")\n",
    "pdf_md_pipeline.md_documents"
   ]
  },
  {
   "cell_type": "code",
   "execution_count": 23,
   "id": "fa837fa4",
   "metadata": {},
   "outputs": [
    {
     "data": {
      "text/plain": [
       "[Document(metadata={}, page_content='paracetamol  \\nAché Laboratórios Farmacêuticos S.A. C omprimidos revestidos 750 mg  \\nBULA PARA PACIENTE  \\nBula de acordo com a Resolução-RDC nº 47/2009  \\nI.IDENTIFICAÇÃO DO MEDICAMENTO  \\nparacetamol  \\nMedicamento Genérico Lei nº 9.787, de 1999  \\nAPRESENTAÇÕES  \\nComprimidos revestidos de 750 mg: embalagens com 20 ou 200 comprimidos.  \\nUSO ORAL  \\nUSO ADULTO E PEDIÁTRICO ACIMA DE 12 ANOS'),\n",
       " Document(metadata={}, page_content='USO ORAL  \\nUSO ADULTO E PEDIÁTRICO ACIMA DE 12 ANOS  \\nCOMPOSIÇÃO  \\nCada comprimido revestido contém:  \\nparacetamol..........................................................................................................................................750 mg  \\nExcipientes: povidona, amidoglicolato de sódio, amido, ácido esteárico, álcool polivinílico, macrogol, talco e dióxido de titânio.'),\n",
       " Document(metadata={}, page_content='II. INFORMAÇÕES AO PACIENTE  \\n1. PARA QUE ESTE MEDICAMENTO É INDICADO?  \\nEste medicamento é indicado para a redução da febre e para o alívio temporário de dores leves a moderadas, tais como dores associadas a resfriados comuns, dor de cabeça, dor no corpo, dor de dente, dor nas costas, dores musculares, dores leves associadas a artrites e cólicas menstruais.  \\n2. COMO ESTE MEDICAMENTO FUNCIONA?'),\n",
       " Document(metadata={}, page_content='2. COMO ESTE MEDICAMENTO FUNCIONA?  \\nParacetamol reduz a febre atuando no centro regulador da temperatura no sistema nervoso central (SNC) e diminui a sensibilidade para a dor. Seu efeito tem início de 15 a 30 minutos após a administração oral e permanece por um período de 4 a 6 horas.  \\n3. QUANDO NÃO DEVO USAR ESTE MEDICAMENTO?'),\n",
       " Document(metadata={}, page_content='3. QUANDO NÃO DEVO USAR ESTE MEDICAMENTO?  \\nVocê não deve usar paracetamol se tiver alergia ao paracetamol ou a qualquer componente de sua fórmula.  \\nEste medicamento é contraindicado para menores de 12 anos.  \\n4. O QUE DEVO SABER ANTES DE USAR ESTE MEDICAMENTO?'),\n",
       " Document(metadata={}, page_content='4. O QUE DEVO SABER ANTES DE USAR ESTE MEDICAMENTO?  \\nVocê não deve tomar mais do que a dose recomendada (superdose) para provocar maior alívio, pois pode causar sérios problemas de saúde. Você deve consultar seu médico se a dor ou febre continuar ou piorar, ou se surgirem novos sintomas, pois estes sintomas podem ser sinais de doenças graves.'),\n",
       " Document(metadata={}, page_content='Uso com álcool: consumidores de doses abusivas de álcool devem consultar seu médico para saber se podem tomar paracetamol ou qualquer outro analgésico.  \\nGravidez e amamentação  \\nSe você estiver grávida ou amamentando, consulte o seu médico antes de usar este medicamento.  \\nEste medicamento não deve ser utilizado por mulheres grávidas sem orientação médica ou do cirurgião-dentista.'),\n",
       " Document(metadata={}, page_content='Uso em pacientes com problemas no fígado: consulte seu médico antes de usar o medicamento.  \\nUso em idosos: até o momento não são conhecidas restrições específicas ao uso de paracetamol por pacientes idosos. Não existe necessidade de ajuste da dose neste grupo etário.'),\n",
       " Document(metadata={}, page_content='Muito raramente, foram relatadas reações cutâneas graves em pacientes que administraram paracetamol. Os sintomas podem incluir: vermelhidão na pele, bolhas e erupções cutâneas. Se ocorrerem reações cutâneas ou piora de problemas de pele já existentes, interrompa o uso do medicamento e procure ajuda médica imediatamente.  \\nNão use outro produto que contenha paracetamol.'),\n",
       " Document(metadata={}, page_content=\"Não use outro produto que contenha paracetamol.  \\nO paracetamol nas doses terapêuticas não foi associado à irritação gástrica.  \\nSe você tem pressão alta, não use este produto por mais tempo do que o indicado no item '6. Como devo usar este medicamento?', a menos que indicado por um médico.\"),\n",
       " Document(metadata={}, page_content='A absorção de paracetamol é mais rápida se você estiver em jejum. Os alimentos podem afetar a velocidade da absorção, mas não a quantidade absorvida do medicamento. A interferência do paracetamol na metabolização de outros medicamentos e a influência destes medicamentos na ação e na toxicidade do paracetamol, em geral, não são relevantes.'),\n",
       " Document(metadata={}, page_content='Consulte seu médico antes de utilizar este medicamento se você estiver tomando flucloxacilina (penicilina - um antibiótico), varfarina (anticoagulante) ou outros derivados cumarínicos.  \\nInforme ao seu médico ou cirurgião-dentista se você está fazendo uso de algum outro medicamento.  \\n5. ONDE, COMO E POR QUANTO TEMPO POSSO GUARDAR ESTE MEDICAMENTO?'),\n",
       " Document(metadata={}, page_content='5. ONDE, COMO E POR QUANTO TEMPO POSSO GUARDAR ESTE MEDICAMENTO?  \\nConservar em temperatura ambiente (entre 15 e 30°C). Proteger da luz e umidade.  \\nNúmero de lote e datas de fabricação e validade: vide embalagem.  \\nNão use medicamento com o prazo de validade vencido. Guarde-o em sua embalagem original.'),\n",
       " Document(metadata={}, page_content='Não use medicamento com o prazo de validade vencido. Guarde-o em sua embalagem original.  \\nCaracterísticas físicas e organolépticas: comprimidos revestidos brancos, de formato oblongo, biconvexos e lisos dos dois lados.'),\n",
       " Document(metadata={}, page_content='Antes de usar, observe o aspecto do medicamento. Caso ele esteja no prazo de validade e você observe alguma mudança no aspecto, consulte o farmacêutico para saber se poderá utilizá-lo.  \\nTODO MEDICAMENTO DEVE SER MANTIDO FORA DO ALCANCE DAS CRIANÇAS .  \\n6. COMO DEVO USAR ESTE MEDICAMENTO?'),\n",
       " Document(metadata={}, page_content='6. COMO DEVO USAR ESTE MEDICAMENTO?  \\nUso oral. Você deve tomar os comprimidos com líquido. O paracetamol pode ser administrado independentemente das refeições.  \\nAdultos e crianças acima de 12 anos: paracetamol 750 mg: 1 comprimido, 3 a 5 vezes ao dia.'),\n",
       " Document(metadata={}, page_content='A dose diária máxima recomendada de paracetamol é de 4000 mg (8 comprimidos de paracetamol 500 mg ou 5 comprimidos de paracetamol 750 mg) administrada em doses fracionadas, não excedendo 1000 mg/dose (2 comprimidos de paracetamol 500 mg ou 1 comprimido de paracetamol 750 mg), em intervalos de 4 a 6 horas, em um período de 24 horas.'),\n",
       " Document(metadata={}, page_content='Duração do tratamento: depende do desaparecimento dos sintomas.  \\nEste medicamento não deve ser partido, aberto ou mastigado.  \\nSiga corretamente o modo de usar. Em caso de dúvidas sobre este medicamento, procure orientação do farmacêutico. Não desaparecendo os sintomas, procure orientação de seu médico ou cirurgião-dentista.  \\n7. O QUE DEVO FAZER QUANDO EU ME ESQUECER DE USAR ESTE MEDICAMENTO?'),\n",
       " Document(metadata={}, page_content='7. O QUE DEVO FAZER QUANDO EU ME ESQUECER DE USAR ESTE MEDICAMENTO?  \\nSe você se esquecer de tomar uma dose do medicamento, tome-a assim que se lembrar, no caso de ainda haver necessidade, e então ajuste o horário das próximas tomadas. Não tome a dose dobrada para compensar a dose esquecida.  \\nEm caso de dúvidas, procure orientação do farmacêutico ou de seu médico, ou cirurgião-dentista.'),\n",
       " Document(metadata={}, page_content='Em caso de dúvidas, procure orientação do farmacêutico ou de seu médico, ou cirurgião-dentista.  \\n8. QUAIS OS MALES QUE ESTE MEDICAMENTO PODE ME CAUSAR?  \\nEste medicamento pode causar algumas reações desagradáveis inesperadas. Caso você tenha uma reação alérgica, deve parar de tomar o medicamento.'),\n",
       " Document(metadata={}, page_content='Reações muito raras (ocorrem em menos de 0,01% dos pacientes que utilizam este medicamento): urticária, coceira e vermelhidão no corpo, reações alérgicas a este medicamento, aumento das transaminases e erupção fixa medicamentosa.'),\n",
       " Document(metadata={}, page_content='Informe ao seu médico, cirurgião-dentista ou farmacêutico o aparecimento de reações indesejáveis pelo uso do medicamento. Informe também à empresa através do seu serviço de atendimento.  \\n9. O QUE FAZER SE ALGUÉM USAR UMA QUANTIDADE MAIOR DO QUE A INDICADA DESTE MEDICAMENTO?'),\n",
       " Document(metadata={}, page_content='9. O QUE FAZER SE ALGUÉM USAR UMA QUANTIDADE MAIOR DO QUE A INDICADA DESTE MEDICAMENTO?  \\nO uso de doses excessivas, acima das doses recomendadas (superdose), pode causar danos ao fígado. Em caso de superdose, procure ajuda médica ou um centro de intoxicação imediatamente. O apoio médico'),\n",
       " Document(metadata={}, page_content='imediato é fundamental para adultos e crianças, mesmo se os sinais e sintomas de intoxicação não estiverem presentes.  \\nOs sinais e sintomas iniciais que se seguem a uma dose potencialmente hepatotóxica de paracetamol são: perda de apetite, náusea, vômito, sudorese intensa, palidez e mal-estar geral.'),\n",
       " Document(metadata={}, page_content='Em caso de uso de grande quantidade deste medicamento, procure rapidamente socorro médico e leve a embalagem ou bula do medicamento, se possível. Ligue para 0800 722 6001, se você precisar de mais orientações.  \\nIII. DIZERES LEGAIS  \\nMS - 1.0573.0651  \\nFarmacêutica Responsável: Gabriela Mallmann - CRF-SP nº 30.138  \\nRegistrado por:'),\n",
       " Document(metadata={}, page_content='Farmacêutica Responsável: Gabriela Mallmann - CRF-SP nº 30.138  \\nRegistrado por:  \\nAché Laboratórios Farmacêuticos S.A. Av. Brigadeiro Faria Lima, 201 - 20º andar São Paulo - SP CNPJ 60.659.463/0029-92 Indústria Brasileira  \\nFabricado por:  \\nAché Laboratórios Farmacêuticos S.A.  \\nGuarulhos - SP  \\nOu  \\nFabricado por:  \\nAché Laboratórios Farmacêuticos S.A.  \\nCabo de Santo Agostinho - PE  \\nOu'),\n",
       " Document(metadata={}, page_content='Ou  \\nFabricado por:  \\nAché Laboratórios Farmacêuticos S.A.  \\nCabo de Santo Agostinho - PE  \\nOu  \\nEmbalado por: Serpac Comércio e Indústria Ltda. São Paulo - SP  \\nSiga corretamente o modo de usar, não desaparecendo os sintomas procure orientação médica.  \\nHistórico de Alterações da Bula'),\n",
       " Document(metadata={}, page_content='Dados da submissão eletrônica Dados da submissão eletrônica Dados da submissão eletrônica Dados da petição/notificação que altera a bula Dados da petição/notificação que altera a bula Dados da petição/notificação que altera a bula Dados da petição/notificação que altera a bula Dados das alterações de bulas Dados das alterações de bulas Dados das alterações de bulas Data do expediente Nº do'),\n",
       " Document(metadata={}, page_content='de bulas Dados das alterações de bulas Dados das alterações de bulas Data do expediente Nº do expediente Assunto Data do expediente Nº do expediente Assunto Data de aprovação Itens de bula Versões (VP/VPS) Apresentações relacionadas 30/04/2014 0331095/14-7 10459- GENÉRICO - Inclusão Inicial de Texto de Bula - RDC 60/12 NA NA NA NA Inclusão inicial de acordo com a bula do medicamento referência'),\n",
       " Document(metadata={}, page_content='de Bula - RDC 60/12 NA NA NA NA Inclusão inicial de acordo com a bula do medicamento referência publicada no bulário eletrônico (Adequação à RDC 47/09 ) VP/VPS Comprimidos revestidos 750 mg 04/03/2015 0193902/15-5 10452- GENÉRICO - Notificação de Alteração de Texto de Bula - RDC 60/12 NA NA NA NA Atualização de acordo com a bula do medicamento referência publicada no bulário eletrônico. VP/VPS'),\n",
       " Document(metadata={}, page_content='Atualização de acordo com a bula do medicamento referência publicada no bulário eletrônico. VP/VPS Comprimidos revestidos 750 mg 12/05/2018 0380491/18-7 10452- GENÉRICO - Notificação de Alteração de Texto de Bula - RDC 60/12 NA NA NA NA VP 4. o que devo saber antes de usar este medicamento? 9. o que fazer se alguém usar uma quantidade maior do que a indicada deste medicamento? VPS 5. advertências'),\n",
       " Document(metadata={}, page_content='fazer se alguém usar uma quantidade maior do que a indicada deste medicamento? VPS 5. advertências e precauções 10. superdose VP/VPS Comprimidos revestidos 750 mg 11/06/2019 0517353/19-1 10452- GENÉRICO - Notificação de Alteração de Texto de Bula - RDC 60/12 12/12/2018 1212139/18-8 1959 - GENERICO - Solicitação de Transferência de Titularidade de Registro (Incorporação de Empresa) 11/02/2019 VP'),\n",
       " Document(metadata={}, page_content='- Solicitação de Transferência de Titularidade de Registro (Incorporação de Empresa) 11/02/2019 VP III - Dizeres Legais VPS 9. Reações Adversas III - Dizeres Legais VP/VPS Comprimidos revestidos 750 mg 02/12/2019 3323277/19-6 10452- GENÉRICO - Notificação de Alteração de Texto de Bula - RDC 60/12 NA NA NA NA VP 8. Quais os males este medicamento pode me causar? VPS 9. Reações Adversas VP/VPS'),\n",
       " Document(metadata={}, page_content='NA NA NA NA VP 8. Quais os males este medicamento pode me causar? VPS 9. Reações Adversas VP/VPS Comprimidos revestidos 750 mg'),\n",
       " Document(metadata={}, page_content='Dados da submissão eletrônica Dados da submissão eletrônica Dados da submissão eletrônica Dados da petição/notificação que altera a bula Dados da petição/notificação que altera a bula Dados da petição/notificação que altera a bula Dados da petição/notificação que altera a bula Dados das alterações de bulas Dados das alterações de bulas Dados das alterações de bulas Data do expediente Nº do'),\n",
       " Document(metadata={}, page_content='de bulas Dados das alterações de bulas Dados das alterações de bulas Data do expediente Nº do expediente Assunto Data do expediente Nº do expediente Assunto Data de aprovação Itens de bula Versões (VP/VPS) Apresentações relacionadas 25/06/2020 2027224/20-3 10452- GENÉRICO - Notificação de Alteração de Texto de Bula - RDC 60/12 17/06/2020 1919500/20-1 11016 - RDC73/2016 - GENÉRICO - Inclusão de'),\n",
       " Document(metadata={}, page_content='de Texto de Bula - RDC 60/12 17/06/2020 1919500/20-1 11016 - RDC73/2016 - GENÉRICO - Inclusão de local de embalagem primária do medicamento III. DIZERES LEGAIS VP/VPS Comprimidos revestidos 750 mg 08/04/2021 1348586/21-5 10452- GENÉRICO - Notificação de Alteração de Texto de Bula - publicação no bulário RDC 60/12 NA NA NA NA VPS 9. REAÇÕES ADVERSAS VPS Comprimidos revestidos 750 mg 27/04/2022'),\n",
       " Document(metadata={}, page_content='bulário RDC 60/12 NA NA NA NA VPS 9. REAÇÕES ADVERSAS VPS Comprimidos revestidos 750 mg 27/04/2022 2549269/22-5 10452 - GENÉRICO - Notificação de Alteração de Texto de Bula -publicação no bulário - RDC 60/12 NA NA NA NA VP 1.PARA QUE ESTE MEDICAMENTO É INDICADO 4. OQUEDEVOSABER ANTES DE USAR ESTE MEDICAMENTO? VPS 1.INDICAÇÕES 2.RESULTADOS DE EFICÁCIA 3.CARACTERÍSTICAS FARMACOLÓGICAS 5.'),\n",
       " Document(metadata={}, page_content='ESTE MEDICAMENTO? VPS 1.INDICAÇÕES 2.RESULTADOS DE EFICÁCIA 3.CARACTERÍSTICAS FARMACOLÓGICAS 5. ADVERTÊNCIAS E PRECAUÇÕES 6. INTERAÇÕES MEDICAMENTOSAS 7. CUIDADOS DE ARMAZENAMENTO DO MEDICAMENTO 8. POSOLOGIA E MODO DE USAR 9. REAÇÕES ADVERSAS 10. SUPERDOSE VP/VPS Comprimidos revestidos 750 mg'),\n",
       " Document(metadata={}, page_content='Dados da submissão eletrônica Dados da submissão eletrônica Dados da submissão eletrônica Dados da petição/notificação que altera a bula Dados da petição/notificação que altera a bula Dados da petição/notificação que altera a bula Dados da petição/notificação que altera a bula Dados das alterações de bulas Dados das alterações de bulas Dados das alterações de bulas Data do expediente Nº do'),\n",
       " Document(metadata={}, page_content='de bulas Dados das alterações de bulas Dados das alterações de bulas Data do expediente Nº do expediente Assunto Data do expediente Nº do expediente Assunto Data de aprovação Itens de bula Versões (VP/VPS) Apresentações relacionadas 02/05/2024 0580590/24-1 10452 - GENÉRICO - Notificação de Alteração de Texto de Bula -publicação no bulário - RDC 60/12 N/A N/A N/A N/A VP 4.O QUE DEVO SABER ANTES DE'),\n",
       " Document(metadata={}, page_content='de Texto de Bula -publicação no bulário - RDC 60/12 N/A N/A N/A N/A VP 4.O QUE DEVO SABER ANTES DE USAR ESTE MEDICAMENTO? VPS 5. ADVERTÊNCIAS E PRECAUÇÕES VP/VPS Comprimidos revestidos 750 mg 26 /11/2024 - 10452 - GENÉRICO - Notificação de Alteração de Texto de Bula -publicação no bulário - RDC 60/12 29/10/2024 1481130/24-8 11022 - RDC 73/2016 - GENÉRICO - Inclusão de local de fabricação de'),\n",
       " Document(metadata={}, page_content='60/12 29/10/2024 1481130/24-8 11022 - RDC 73/2016 - GENÉRICO - Inclusão de local de fabricação de medicamento de liberação convencional III. DIZERES LEGAIS VP/VPS Comprimidos revestidos 750 mg')]"
      ]
     },
     "execution_count": 23,
     "metadata": {},
     "output_type": "execute_result"
    }
   ],
   "source": [
    "pdf_md_pipeline.get_chunks(\n",
    "    chunk_size=chunk_size,\n",
    "    chunk_overlap=chunk_overlap,\n",
    "    headers_to_split_on=headers_to_split_on,\n",
    ")\n",
    "pdf_md_pipeline.chunk_documents"
   ]
  },
  {
   "cell_type": "markdown",
   "id": "c74e1a8a",
   "metadata": {},
   "source": [
    "A classe LLMModel carrega o modelo LLM de acordo com o provedor de modelo configurado que pode ser:\n",
    "- local\n",
    "- openai\n",
    "- google\n",
    "- groq\n",
    "- hf (para huggingface)"
   ]
  },
  {
   "cell_type": "code",
   "execution_count": 24,
   "id": "c7357c67",
   "metadata": {},
   "outputs": [],
   "source": [
    "llm = LLMModel(\n",
    "    provider=provider,\n",
    "    temperature=temperature,\n",
    "    max_tokens=max_tokens\n",
    ").llm"
   ]
  },
  {
   "cell_type": "code",
   "execution_count": 25,
   "id": "f0119199",
   "metadata": {},
   "outputs": [
    {
     "data": {
      "text/plain": [
       "Document(metadata={}, page_content='4. O QUE DEVO SABER ANTES DE USAR ESTE MEDICAMENTO?  \\nVocê não deve tomar mais do que a dose recomendada (superdose) para provocar maior alívio, pois pode causar sérios problemas de saúde. Você deve consultar seu médico se a dor ou febre continuar ou piorar, ou se surgirem novos sintomas, pois estes sintomas podem ser sinais de doenças graves.')"
      ]
     },
     "execution_count": 25,
     "metadata": {},
     "output_type": "execute_result"
    }
   ],
   "source": [
    "pdf_md_pipeline.chunk_documents[5]"
   ]
  },
  {
   "cell_type": "markdown",
   "id": "638e60af",
   "metadata": {},
   "source": [
    "A classe KGFromText gera o grafo de conhecimento a partir de um modelo LLM  utilizando o LLMGraphTransformer do langchain."
   ]
  },
  {
   "cell_type": "code",
   "execution_count": 26,
   "id": "97dc83eb",
   "metadata": {},
   "outputs": [],
   "source": [
    "kg = KGFromText(\n",
    "    llm=llm\n",
    ")"
   ]
  },
  {
   "cell_type": "code",
   "execution_count": 27,
   "id": "b8d038bd",
   "metadata": {},
   "outputs": [
    {
     "name": "stderr",
     "output_type": "stream",
     "text": [
      "INFO:httpx:HTTP Request: POST https://api.openai.com/v1/chat/completions \"HTTP/1.1 200 OK\"\n"
     ]
    },
    {
     "data": {
      "text/plain": [
       "KGFromText(llm=ChatOpenAI(client=<openai.resources.chat.completions.completions.Completions object at 0x75424d50ab40>, async_client=<openai.resources.chat.completions.completions.AsyncCompletions object at 0x75424d509a30>, root_client=<openai.OpenAI object at 0x75424d569340>, root_async_client=<openai.AsyncOpenAI object at 0x75424d568140>, model_name='gpt-4o-mini', temperature=0.7, model_kwargs={}, openai_api_key=SecretStr('**********')), graph_documents=[GraphDocument(nodes=[Node(id='Medicament', type='Concept', properties={}), Node(id='Dose Recomendada', type='Concept', properties={}), Node(id='Problemas De Saúde', type='Concept', properties={}), Node(id='Médico', type='Person', properties={}), Node(id='Dor', type='Symptom', properties={}), Node(id='Febre', type='Symptom', properties={}), Node(id='Sintomas Novos', type='Symptom', properties={}), Node(id='Doenças Graves', type='Concept', properties={})], relationships=[Relationship(source=Node(id='Medicament', type='Concept', properties={}), target=Node(id='Dose Recomendada', type='Concept', properties={}), type='DEVE_SEGUIR', properties={}), Relationship(source=Node(id='Medicament', type='Concept', properties={}), target=Node(id='Problemas De Saúde', type='Concept', properties={}), type='PODE_CAUSAR', properties={}), Relationship(source=Node(id='Dor', type='Symptom', properties={}), target=Node(id='Médico', type='Person', properties={}), type='CONSULTAR', properties={}), Relationship(source=Node(id='Febre', type='Symptom', properties={}), target=Node(id='Médico', type='Person', properties={}), type='CONSULTAR', properties={}), Relationship(source=Node(id='Sintomas Novos', type='Symptom', properties={}), target=Node(id='Médico', type='Person', properties={}), type='CONSULTAR', properties={}), Relationship(source=Node(id='Sintomas Novos', type='Symptom', properties={}), target=Node(id='Doenças Graves', type='Concept', properties={}), type='PODE_SER_SINAL_DE', properties={})], source=Document(metadata={}, page_content='4. O QUE DEVO SABER ANTES DE USAR ESTE MEDICAMENTO?  \\nVocê não deve tomar mais do que a dose recomendada (superdose) para provocar maior alívio, pois pode causar sérios problemas de saúde. Você deve consultar seu médico se a dor ou febre continuar ou piorar, ou se surgirem novos sintomas, pois estes sintomas podem ser sinais de doenças graves.'))])"
      ]
     },
     "execution_count": 27,
     "metadata": {},
     "output_type": "execute_result"
    }
   ],
   "source": [
    "chunk_documents = [pdf_md_pipeline.chunk_documents[5]]\n",
    "\n",
    "await kg.get_kg(\n",
    "    chunk_documents=chunk_documents\n",
    ")"
   ]
  },
  {
   "cell_type": "code",
   "execution_count": 28,
   "id": "3c66af31",
   "metadata": {},
   "outputs": [
    {
     "data": {
      "text/plain": [
       "[GraphDocument(nodes=[Node(id='Medicament', type='Concept', properties={}), Node(id='Dose Recomendada', type='Concept', properties={}), Node(id='Problemas De Saúde', type='Concept', properties={}), Node(id='Médico', type='Person', properties={}), Node(id='Dor', type='Symptom', properties={}), Node(id='Febre', type='Symptom', properties={}), Node(id='Sintomas Novos', type='Symptom', properties={}), Node(id='Doenças Graves', type='Concept', properties={})], relationships=[Relationship(source=Node(id='Medicament', type='Concept', properties={}), target=Node(id='Dose Recomendada', type='Concept', properties={}), type='DEVE_SEGUIR', properties={}), Relationship(source=Node(id='Medicament', type='Concept', properties={}), target=Node(id='Problemas De Saúde', type='Concept', properties={}), type='PODE_CAUSAR', properties={}), Relationship(source=Node(id='Dor', type='Symptom', properties={}), target=Node(id='Médico', type='Person', properties={}), type='CONSULTAR', properties={}), Relationship(source=Node(id='Febre', type='Symptom', properties={}), target=Node(id='Médico', type='Person', properties={}), type='CONSULTAR', properties={}), Relationship(source=Node(id='Sintomas Novos', type='Symptom', properties={}), target=Node(id='Médico', type='Person', properties={}), type='CONSULTAR', properties={}), Relationship(source=Node(id='Sintomas Novos', type='Symptom', properties={}), target=Node(id='Doenças Graves', type='Concept', properties={}), type='PODE_SER_SINAL_DE', properties={})], source=Document(metadata={}, page_content='4. O QUE DEVO SABER ANTES DE USAR ESTE MEDICAMENTO?  \\nVocê não deve tomar mais do que a dose recomendada (superdose) para provocar maior alívio, pois pode causar sérios problemas de saúde. Você deve consultar seu médico se a dor ou febre continuar ou piorar, ou se surgirem novos sintomas, pois estes sintomas podem ser sinais de doenças graves.'))]"
      ]
     },
     "execution_count": 28,
     "metadata": {},
     "output_type": "execute_result"
    }
   ],
   "source": [
    "kg.graph_documents"
   ]
  },
  {
   "cell_type": "code",
   "execution_count": null,
   "id": "dabc2e7c",
   "metadata": {},
   "outputs": [
    {
     "ename": "AttributeError",
     "evalue": "'KGFromText' object has no attribute 'plot_and_save_graph_visualization'",
     "output_type": "error",
     "traceback": [
      "\u001b[31m---------------------------------------------------------------------------\u001b[39m",
      "\u001b[31mAttributeError\u001b[39m                            Traceback (most recent call last)",
      "\u001b[36mCell\u001b[39m\u001b[36m \u001b[39m\u001b[32mIn[29]\u001b[39m\u001b[32m, line 1\u001b[39m\n\u001b[32m----> \u001b[39m\u001b[32m1\u001b[39m \u001b[43mkg\u001b[49m\u001b[43m.\u001b[49m\u001b[43mplot_and_save_graph_visualization\u001b[49m(\n\u001b[32m      2\u001b[39m     file_name=FILE_NAME,\n\u001b[32m      3\u001b[39m     figsize=figsize, \n\u001b[32m      4\u001b[39m     show_node_properties=show_node_properties\n\u001b[32m      5\u001b[39m )\n",
      "\u001b[31mAttributeError\u001b[39m: 'KGFromText' object has no attribute 'plot_and_save_graph_visualization'"
     ]
    }
   ],
   "source": [
    "kg.plot_and_save_graph_visualization(\n",
    "    file_name=FILE_NAME,\n",
    "    figsize=figsize, \n",
    "    show_node_properties=show_node_properties\n",
    ")"
   ]
  },
  {
   "cell_type": "code",
   "execution_count": null,
   "id": "469f2680",
   "metadata": {},
   "outputs": [],
   "source": [
    "kg.save_graph_on_db()"
   ]
  }
 ],
 "metadata": {
  "kernelspec": {
   "display_name": ".venv",
   "language": "python",
   "name": "python3"
  },
  "language_info": {
   "codemirror_mode": {
    "name": "ipython",
    "version": 3
   },
   "file_extension": ".py",
   "mimetype": "text/x-python",
   "name": "python",
   "nbconvert_exporter": "python",
   "pygments_lexer": "ipython3",
   "version": "3.12.7"
  }
 },
 "nbformat": 4,
 "nbformat_minor": 5
}
