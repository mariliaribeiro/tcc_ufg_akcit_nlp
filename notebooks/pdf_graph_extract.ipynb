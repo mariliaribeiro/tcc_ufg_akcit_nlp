{
 "cells": [
  {
   "cell_type": "markdown",
   "id": "6f673977",
   "metadata": {},
   "source": [
    "# Extração de grafos de conhecimento de bulas de medicamentos de arquivos PDF extraídos do bulário eletrônico da ANVISA\n",
    "\n",
    "\n",
    "**Materiais úteis**\n",
    "- [Preparing PDFs for RAGs: um comparativo entre bibliotecas](https://towardsdatascience.com/preparing-pdfs-for-rags-b1579fc697f1/)\n",
    "- [Build a knowledge graph from documents using Docling](https://alain-airom.medium.com/build-a-knowledge-graph-from-documents-using-docling-8bc05e1389f7)\n",
    "- [Comprehensive Guide to Chunking in LLM and RAG Systems](https://kshitijkutumbe.medium.com/comprehensive-guide-to-chunking-in-llm-and-rag-systems-c579a11ce6e2)\n",
    "- [Building Knowledge Graphs with LLM Graph Transformer](https://medium.com/data-science/building-knowledge-graphs-with-llm-graph-transformer-a91045c49b59)\n",
    "- [How to construct knowledge graphs](https://python.langchain.com/docs/how_to/graph_constructing/)\n",
    "- [Geração com Recuperação Aumentada (RAG) em\n",
    "Grafos de Conhecimento](https://books-sol.sbc.org.br/index.php/sbc/catalog/download/153/658/1179?inline=1)"
   ]
  },
  {
   "cell_type": "code",
   "execution_count": null,
   "id": "b1a71e49",
   "metadata": {},
   "outputs": [],
   "source": [
    "# Rodar somente quando estiver fazendo a preparaçaõ do ambiente de desenvolvimento para fazer o download da biblioteca\n",
    "# !python3 -m spacy download pt_core_news_md"
   ]
  },
  {
   "cell_type": "code",
   "execution_count": null,
   "id": "09f4a513",
   "metadata": {},
   "outputs": [],
   "source": [
    "from src.config import RAW_DATA_DIR, PROCESSED_DATA_DIR\n",
    "from src.data_processing.pdf_and_markdown_pipeline import PdfAndMarkdownPipeline\n",
    "from src.data_processing.chunks import HEADERS_TO_SPLIT_ON\n",
    "\n",
    "from src.connetion.chat_model import LLMModel\n",
    "from src.kg.kg_from_text import KGFromText\n",
    "from src.connetion.embeddings import EmbeddingsModel\n",
    "\n",
    "\n",
    "FILE_NAME = \"bula_1748876242121.pdf\"\n",
    "PDF_FILE_PATH = f\"{RAW_DATA_DIR}/{FILE_NAME}\"\n",
    "MD_FILE_PATH = f\"{PROCESSED_DATA_DIR}/{FILE_NAME}.md\"\n",
    "\n",
    "\n",
    "chunk_size = 400\n",
    "chunk_overlap = 100\n",
    "headers_to_split_on = HEADERS_TO_SPLIT_ON\n",
    "\n",
    "provider = \"openai\"\n",
    "embedding_provider = \"hf\"\n",
    "temperature = 0.7\n",
    "max_tokens = None\n",
    "\n",
    "figsize = (10, 8)\n",
    "show_node_properties = False"
   ]
  },
  {
   "cell_type": "markdown",
   "id": "131a6618",
   "metadata": {},
   "source": [
    "A classe PdfAndMarkdownPipeline possui as seguintes funcionalidades:\n",
    "- Converte um arquivo pdf para markdown\n",
    "- Carrega o conteúdo de um arquivo markdown e gera os chunks do arquivo\n",
    "- Os chunks são gerados em duas etapas: a primeira divisão se dá pelo título das seções e depois divide o conteúdo das seções de acordo com o tamanho dos chunks configurados"
   ]
  },
  {
   "cell_type": "code",
   "execution_count": null,
   "id": "4163eaf2",
   "metadata": {},
   "outputs": [],
   "source": [
    "pdf_md_pipeline = PdfAndMarkdownPipeline()"
   ]
  },
  {
   "cell_type": "code",
   "execution_count": null,
   "id": "c4e5577a",
   "metadata": {},
   "outputs": [],
   "source": [
    "# Executar somente quando for converter um pdf para markdown\n",
    "# pdf_md_pipeline.pdf_to_markdown(\n",
    "#     source_file_path=PDF_FILE_PATH,\n",
    "#     dest_dir_path=PROCESSED_DATA_DIR\n",
    "# )"
   ]
  },
  {
   "cell_type": "code",
   "execution_count": null,
   "id": "1c19f67e",
   "metadata": {},
   "outputs": [],
   "source": [
    "# Executar sempre que for ler o conteúdo do markdown\n",
    "pdf_md_pipeline.load_markdown(\n",
    "    source_file_path=MD_FILE_PATH\n",
    ")\n",
    "pdf_md_pipeline.md_documents"
   ]
  },
  {
   "cell_type": "code",
   "execution_count": null,
   "id": "fa837fa4",
   "metadata": {},
   "outputs": [],
   "source": [
    "pdf_md_pipeline.get_chunks(\n",
    "    chunk_size=chunk_size,\n",
    "    chunk_overlap=chunk_overlap,\n",
    "    headers_to_split_on=headers_to_split_on,\n",
    ")\n",
    "pdf_md_pipeline.chunk_documents"
   ]
  },
  {
   "cell_type": "markdown",
   "id": "c74e1a8a",
   "metadata": {},
   "source": [
    "A classe LLMModel carrega o modelo LLM de acordo com o provedor de modelo configurado que pode ser:\n",
    "- local\n",
    "- openai\n",
    "- google\n",
    "- groq\n",
    "- hf (para huggingface)"
   ]
  },
  {
   "cell_type": "code",
   "execution_count": null,
   "id": "c7357c67",
   "metadata": {},
   "outputs": [],
   "source": [
    "llm = LLMModel(\n",
    "    provider=provider,\n",
    "    temperature=temperature,\n",
    "    max_tokens=max_tokens\n",
    ").llm\n",
    "\n",
    "embedding = EmbeddingsModel(\n",
    "    provider=embedding_provider,\n",
    ").embeddings"
   ]
  },
  {
   "cell_type": "code",
   "execution_count": null,
   "id": "f0119199",
   "metadata": {},
   "outputs": [],
   "source": [
    "pdf_md_pipeline.chunk_documents[5]"
   ]
  },
  {
   "cell_type": "markdown",
   "id": "638e60af",
   "metadata": {},
   "source": [
    "A classe KGFromText gera o grafo de conhecimento a partir de um modelo LLM  utilizando o LLMGraphTransformer do langchain."
   ]
  },
  {
   "cell_type": "code",
   "execution_count": null,
   "id": "97dc83eb",
   "metadata": {},
   "outputs": [],
   "source": [
    "kg = KGFromText(\n",
    "    llm=llm,\n",
    "    embeddings=embedding\n",
    ")"
   ]
  },
  {
   "cell_type": "code",
   "execution_count": null,
   "id": "b8d038bd",
   "metadata": {},
   "outputs": [],
   "source": [
    "chunk_documents = [pdf_md_pipeline.chunk_documents[5]]\n",
    "\n",
    "await kg.get_kg(\n",
    "    chunk_documents=chunk_documents\n",
    ")"
   ]
  },
  {
   "cell_type": "code",
   "execution_count": null,
   "id": "3c66af31",
   "metadata": {},
   "outputs": [],
   "source": [
    "kg.graph_documents"
   ]
  },
  {
   "cell_type": "code",
   "execution_count": null,
   "id": "dabc2e7c",
   "metadata": {},
   "outputs": [],
   "source": [
    "kg.plot_and_export_visualization(\n",
    "    file_name=FILE_NAME,\n",
    "    figsize=figsize, \n",
    "    show_node_properties=show_node_properties\n",
    ")"
   ]
  },
  {
   "cell_type": "code",
   "execution_count": null,
   "id": "469f2680",
   "metadata": {},
   "outputs": [],
   "source": [
    "kg.save()"
   ]
  }
 ],
 "metadata": {
  "kernelspec": {
   "display_name": ".venv",
   "language": "python",
   "name": "python3"
  },
  "language_info": {
   "codemirror_mode": {
    "name": "ipython",
    "version": 3
   },
   "file_extension": ".py",
   "mimetype": "text/x-python",
   "name": "python",
   "nbconvert_exporter": "python",
   "pygments_lexer": "ipython3",
   "version": "3.12.7"
  }
 },
 "nbformat": 4,
 "nbformat_minor": 5
}
