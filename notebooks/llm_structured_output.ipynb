{
 "cells": [
  {
   "cell_type": "markdown",
   "id": "df75e8f0",
   "metadata": {},
   "source": [
    "# Testando a tool de resgatar informações da API do Sistema Hórus\n",
    "\n",
    "- [Código CATMAT](https://integracao.esusab.ufsc.br/ledi/documentacao/referencias/tabela_catmat.html)"
   ]
  },
  {
   "cell_type": "code",
   "execution_count": null,
   "id": "a6223090",
   "metadata": {},
   "outputs": [
    {
     "name": "stderr",
     "output_type": "stream",
     "text": [
      "\u001b[32m2025-06-24 08:47:34.455\u001b[0m | \u001b[1mINFO    \u001b[0m | \u001b[36msrc.config\u001b[0m:\u001b[36m<module>\u001b[0m:\u001b[36m13\u001b[0m - \u001b[1mPROJ_ROOT path is: /home/marilia/git/pos/tcc_ufg_akcit_nlp\u001b[0m\n"
     ]
    }
   ],
   "source": [
    "from src.connetion.embeddings import EmbeddingsModel\n",
    "from src.connetion.chat_model import LLMModel\n",
    "from src.config import EMBEDDING_PROVIDER, LLM_MAX_TOKENS, LLM_PROVIDER, LLM_TEMPERATURE\n",
    "from src.api.schemas.request.horus import HorusMedicineStockRequest\n",
    "from src.api.routes.routes import get_horus_medicine_stock\n",
    "from src.agents.tools.question_to_api import QuestionToAPI\n",
    "\n",
    "llm_provider = LLM_PROVIDER\n",
    "llm_temperature = LLM_TEMPERATURE\n",
    "llm_max_tokens = LLM_MAX_TOKENS\n",
    "embedding_provider = EMBEDDING_PROVIDER\n",
    "schema = HorusMedicineStockRequest"
   ]
  },
  {
   "cell_type": "code",
   "execution_count": null,
   "id": "b1499aa1",
   "metadata": {},
   "outputs": [
    {
     "name": "stderr",
     "output_type": "stream",
     "text": [
      "/home/marilia/git/pos/tcc_ufg_akcit_nlp/.venv/lib/python3.12/site-packages/tqdm/auto.py:21: TqdmWarning: IProgress not found. Please update jupyter and ipywidgets. See https://ipywidgets.readthedocs.io/en/stable/user_install.html\n",
      "  from .autonotebook import tqdm as notebook_tqdm\n"
     ]
    }
   ],
   "source": [
    "llm = LLMModel(\n",
    "    provider=llm_provider,\n",
    "    temperature=llm_temperature,\n",
    "    max_tokens=llm_max_tokens,\n",
    ").llm\n",
    "embedding = EmbeddingsModel(\n",
    "    provider=embedding_provider,\n",
    ").embeddings"
   ]
  },
  {
   "cell_type": "code",
   "execution_count": null,
   "id": "bf6551f7",
   "metadata": {},
   "outputs": [],
   "source": [
    "qta = QuestionToAPI(\n",
    "    llm=llm,\n",
    "    api_func=get_horus_medicine_stock,\n",
    "    schema=HorusMedicineStockRequest,\n",
    ")"
   ]
  },
  {
   "cell_type": "code",
   "execution_count": 72,
   "id": "9c316107",
   "metadata": {},
   "outputs": [
    {
     "name": "stdout",
     "output_type": "stream",
     "text": [
      "input_variables=['question'] input_types={} partial_variables={} messages=[SystemMessagePromptTemplate(prompt=PromptTemplate(input_variables=[], input_types={}, partial_variables={}, template='\\nYou are an expert extraction algorithm, specialized in extract relevant information from the text \\nand return a output as specified by the provided JSON schema.\\nDo not generate any new information or extra characters outside of the JSON schema.\\nThis JSON schema is used like a request object to consult Horus API to get relavant medicine stock \\ninformation by brasilian city and state.\\nSome attributes of JSON schema should be filled with a known id. To do this, you must use the \\ncontext provided below. You must return only the codes provided in the context. \\nIf you do not find any information, return the field with the value None or an empty string.\\nNever return a code for cities and states that are not on the list.\\n\\nIBGE code of the Brazilian States, also called Federation Unit (UF):\\n- Nome do Estado (UF) = Acre, Sigla = AC, Código IBGE = 12\\n- Nome do Estado (UF) = Ceará, Sigla = CE, Código IBGE = 23\\n- Nome do Estado (UF) = São Paulo, Sigla = SP, Código IBGE = 35\\n- Nome do Estado (UF) = Paraná, Sigla = PR, Código IBGE = 41\\n- Nome do Estado (UF) = Bahia, Sigla = BA, Código IBGE = 29\\n- Nome do Estado (UF) = Goiás, Sigla = GO, Código IBGE = 52\\n- Nome do Estado (UF) = Distrito Federal, Sigla = DF, Código IBGE = 53\\n- Nome do Estado (UF) = Santa Catarina, Sigla = BA, Código IBGE = 42\\n\\nCATMAT code (Catálogo de Materiais):\\n- Princípio ativo = Ibuprofeno, Código CATMAT = BR0332755-6\\n- Princípio ativo = Paracetamol, Código CATMAT = BR0267778\\n- Princípio ativo = Esomeprazol, Magnésio, Código CATMAT = BR0274186\\n- Princípio ativo = Nimesulida, Código CATMAT = BR0273710\\n'), additional_kwargs={}), HumanMessagePromptTemplate(prompt=PromptTemplate(input_variables=['question'], input_types={}, partial_variables={}, template='{question}'), additional_kwargs={})]\n",
      "Structured LLM tool schema:\n",
      " {'tools': [{'type': 'function', 'function': {'name': 'HorusMedicineStockRequest2', 'description': '', 'parameters': {'properties': {'codigo_uf': {'anyOf': [{'type': 'string'}, {'type': 'null'}], 'default': None, 'description': 'Filtra pelo Código IBGE da Unidade da Federação à qual pertence o estabelecimento'}, 'data_posicao_estoque': {'anyOf': [{'type': 'string'}, {'type': 'null'}], 'default': None, 'description': 'Filtra pela Data da posição de estoque informada. Formato: AAAA-MM-DD. Exemplo: 2024-02-21'}, 'codigo_catmat': {'anyOf': [{'type': 'string'}, {'type': 'null'}], 'default': None, 'description': 'Filtra pelo Código CATMAT com unidade de fornecimento do item em estoque'}, 'limit': {'default': 100, 'description': 'Quantidade de itens retornados por página. Deve ser menor ou igual 20', 'type': 'integer'}, 'offset': {'default': 0, 'description': 'Número da página de itens que deve ser retornada. Observação: As páginas iniciam a contagem a partir de 0 (zero), por exemplo: offset=0', 'type': 'integer'}}, 'type': 'object'}}}], 'ls_structured_output_format': {'kwargs': {'method': 'function_calling'}, 'schema': {'type': 'function', 'function': {'name': 'HorusMedicineStockRequest2', 'description': '', 'parameters': {'properties': {'codigo_uf': {'anyOf': [{'type': 'string'}, {'type': 'null'}], 'default': None, 'description': 'Filtra pelo Código IBGE da Unidade da Federação à qual pertence o estabelecimento'}, 'data_posicao_estoque': {'anyOf': [{'type': 'string'}, {'type': 'null'}], 'default': None, 'description': 'Filtra pela Data da posição de estoque informada. Formato: AAAA-MM-DD. Exemplo: 2024-02-21'}, 'codigo_catmat': {'anyOf': [{'type': 'string'}, {'type': 'null'}], 'default': None, 'description': 'Filtra pelo Código CATMAT com unidade de fornecimento do item em estoque'}, 'limit': {'default': 100, 'description': 'Quantidade de itens retornados por página. Deve ser menor ou igual 20', 'type': 'integer'}, 'offset': {'default': 0, 'description': 'Número da página de itens que deve ser retornada. Observação: As páginas iniciam a contagem a partir de 0 (zero), por exemplo: offset=0', 'type': 'integer'}}, 'type': 'object'}}}}, 'tool_choice': {'type': 'function', 'function': {'name': 'HorusMedicineStockRequest2'}}}\n"
     ]
    },
    {
     "data": {
      "text/plain": [
       "HorusMedicineStockRequest2(codigo_uf='53', data_posicao_estoque=None, codigo_catmat=None, limit=5, offset=0)"
      ]
     },
     "execution_count": 72,
     "metadata": {},
     "output_type": "execute_result"
    }
   ],
   "source": [
    "question=\"\"\"\n",
    "Gostaria de saber os últimos 5 registro do estoque de medicamentos do DF com código UF 53.\n",
    "\"\"\"\n",
    "resp = qta.get_structured_output(question=question)\n",
    "resp"
   ]
  },
  {
   "cell_type": "code",
   "execution_count": 73,
   "id": "a6c13b44",
   "metadata": {},
   "outputs": [
    {
     "name": "stdout",
     "output_type": "stream",
     "text": [
      "input_variables=['question'] input_types={} partial_variables={} messages=[SystemMessagePromptTemplate(prompt=PromptTemplate(input_variables=[], input_types={}, partial_variables={}, template='\\nYou are an expert extraction algorithm, specialized in extract relevant information from the text \\nand return a output as specified by the provided JSON schema.\\nDo not generate any new information or extra characters outside of the JSON schema.\\nThis JSON schema is used like a request object to consult Horus API to get relavant medicine stock \\ninformation by brasilian city and state.\\nSome attributes of JSON schema should be filled with a known id. To do this, you must use the \\ncontext provided below. You must return only the codes provided in the context. \\nIf you do not find any information, return the field with the value None or an empty string.\\nNever return a code for cities and states that are not on the list.\\n\\nIBGE code of the Brazilian States, also called Federation Unit (UF):\\n- Nome do Estado (UF) = Acre, Sigla = AC, Código IBGE = 12\\n- Nome do Estado (UF) = Ceará, Sigla = CE, Código IBGE = 23\\n- Nome do Estado (UF) = São Paulo, Sigla = SP, Código IBGE = 35\\n- Nome do Estado (UF) = Paraná, Sigla = PR, Código IBGE = 41\\n- Nome do Estado (UF) = Bahia, Sigla = BA, Código IBGE = 29\\n- Nome do Estado (UF) = Goiás, Sigla = GO, Código IBGE = 52\\n- Nome do Estado (UF) = Distrito Federal, Sigla = DF, Código IBGE = 53\\n- Nome do Estado (UF) = Santa Catarina, Sigla = BA, Código IBGE = 42\\n\\nCATMAT code (Catálogo de Materiais):\\n- Princípio ativo = Ibuprofeno, Código CATMAT = BR0332755-6\\n- Princípio ativo = Paracetamol, Código CATMAT = BR0267778\\n- Princípio ativo = Esomeprazol, Magnésio, Código CATMAT = BR0274186\\n- Princípio ativo = Nimesulida, Código CATMAT = BR0273710\\n'), additional_kwargs={}), HumanMessagePromptTemplate(prompt=PromptTemplate(input_variables=['question'], input_types={}, partial_variables={}, template='{question}'), additional_kwargs={})]\n",
      "Structured LLM tool schema:\n",
      " {'tools': [{'type': 'function', 'function': {'name': 'HorusMedicineStockRequest2', 'description': '', 'parameters': {'properties': {'codigo_uf': {'anyOf': [{'type': 'string'}, {'type': 'null'}], 'default': None, 'description': 'Filtra pelo Código IBGE da Unidade da Federação à qual pertence o estabelecimento'}, 'data_posicao_estoque': {'anyOf': [{'type': 'string'}, {'type': 'null'}], 'default': None, 'description': 'Filtra pela Data da posição de estoque informada. Formato: AAAA-MM-DD. Exemplo: 2024-02-21'}, 'codigo_catmat': {'anyOf': [{'type': 'string'}, {'type': 'null'}], 'default': None, 'description': 'Filtra pelo Código CATMAT com unidade de fornecimento do item em estoque'}, 'limit': {'default': 100, 'description': 'Quantidade de itens retornados por página. Deve ser menor ou igual 20', 'type': 'integer'}, 'offset': {'default': 0, 'description': 'Número da página de itens que deve ser retornada. Observação: As páginas iniciam a contagem a partir de 0 (zero), por exemplo: offset=0', 'type': 'integer'}}, 'type': 'object'}}}], 'ls_structured_output_format': {'kwargs': {'method': 'function_calling'}, 'schema': {'type': 'function', 'function': {'name': 'HorusMedicineStockRequest2', 'description': '', 'parameters': {'properties': {'codigo_uf': {'anyOf': [{'type': 'string'}, {'type': 'null'}], 'default': None, 'description': 'Filtra pelo Código IBGE da Unidade da Federação à qual pertence o estabelecimento'}, 'data_posicao_estoque': {'anyOf': [{'type': 'string'}, {'type': 'null'}], 'default': None, 'description': 'Filtra pela Data da posição de estoque informada. Formato: AAAA-MM-DD. Exemplo: 2024-02-21'}, 'codigo_catmat': {'anyOf': [{'type': 'string'}, {'type': 'null'}], 'default': None, 'description': 'Filtra pelo Código CATMAT com unidade de fornecimento do item em estoque'}, 'limit': {'default': 100, 'description': 'Quantidade de itens retornados por página. Deve ser menor ou igual 20', 'type': 'integer'}, 'offset': {'default': 0, 'description': 'Número da página de itens que deve ser retornada. Observação: As páginas iniciam a contagem a partir de 0 (zero), por exemplo: offset=0', 'type': 'integer'}}, 'type': 'object'}}}}, 'tool_choice': {'type': 'function', 'function': {'name': 'HorusMedicineStockRequest2'}}}\n"
     ]
    },
    {
     "data": {
      "text/plain": [
       "HorusMedicineStockRequest2(codigo_uf='42', data_posicao_estoque=None, codigo_catmat=None, limit=5, offset=0)"
      ]
     },
     "execution_count": 73,
     "metadata": {},
     "output_type": "execute_result"
    }
   ],
   "source": [
    "question=\"\"\"\n",
    "Gostaria de saber os últimos 5 registro do estoque de medicamentos de Santa Catarina.\n",
    "\"\"\"\n",
    "resp = qta.get_structured_output(question=question)\n",
    "resp"
   ]
  },
  {
   "cell_type": "code",
   "execution_count": 74,
   "id": "d412643b",
   "metadata": {},
   "outputs": [
    {
     "name": "stdout",
     "output_type": "stream",
     "text": [
      "input_variables=['question'] input_types={} partial_variables={} messages=[SystemMessagePromptTemplate(prompt=PromptTemplate(input_variables=[], input_types={}, partial_variables={}, template='\\nYou are an expert extraction algorithm, specialized in extract relevant information from the text \\nand return a output as specified by the provided JSON schema.\\nDo not generate any new information or extra characters outside of the JSON schema.\\nThis JSON schema is used like a request object to consult Horus API to get relavant medicine stock \\ninformation by brasilian city and state.\\nSome attributes of JSON schema should be filled with a known id. To do this, you must use the \\ncontext provided below. You must return only the codes provided in the context. \\nIf you do not find any information, return the field with the value None or an empty string.\\nNever return a code for cities and states that are not on the list.\\n\\nIBGE code of the Brazilian States, also called Federation Unit (UF):\\n- Nome do Estado (UF) = Acre, Sigla = AC, Código IBGE = 12\\n- Nome do Estado (UF) = Ceará, Sigla = CE, Código IBGE = 23\\n- Nome do Estado (UF) = São Paulo, Sigla = SP, Código IBGE = 35\\n- Nome do Estado (UF) = Paraná, Sigla = PR, Código IBGE = 41\\n- Nome do Estado (UF) = Bahia, Sigla = BA, Código IBGE = 29\\n- Nome do Estado (UF) = Goiás, Sigla = GO, Código IBGE = 52\\n- Nome do Estado (UF) = Distrito Federal, Sigla = DF, Código IBGE = 53\\n- Nome do Estado (UF) = Santa Catarina, Sigla = BA, Código IBGE = 42\\n\\nCATMAT code (Catálogo de Materiais):\\n- Princípio ativo = Ibuprofeno, Código CATMAT = BR0332755-6\\n- Princípio ativo = Paracetamol, Código CATMAT = BR0267778\\n- Princípio ativo = Esomeprazol, Magnésio, Código CATMAT = BR0274186\\n- Princípio ativo = Nimesulida, Código CATMAT = BR0273710\\n'), additional_kwargs={}), HumanMessagePromptTemplate(prompt=PromptTemplate(input_variables=['question'], input_types={}, partial_variables={}, template='{question}'), additional_kwargs={})]\n",
      "Structured LLM tool schema:\n",
      " {'tools': [{'type': 'function', 'function': {'name': 'HorusMedicineStockRequest2', 'description': '', 'parameters': {'properties': {'codigo_uf': {'anyOf': [{'type': 'string'}, {'type': 'null'}], 'default': None, 'description': 'Filtra pelo Código IBGE da Unidade da Federação à qual pertence o estabelecimento'}, 'data_posicao_estoque': {'anyOf': [{'type': 'string'}, {'type': 'null'}], 'default': None, 'description': 'Filtra pela Data da posição de estoque informada. Formato: AAAA-MM-DD. Exemplo: 2024-02-21'}, 'codigo_catmat': {'anyOf': [{'type': 'string'}, {'type': 'null'}], 'default': None, 'description': 'Filtra pelo Código CATMAT com unidade de fornecimento do item em estoque'}, 'limit': {'default': 100, 'description': 'Quantidade de itens retornados por página. Deve ser menor ou igual 20', 'type': 'integer'}, 'offset': {'default': 0, 'description': 'Número da página de itens que deve ser retornada. Observação: As páginas iniciam a contagem a partir de 0 (zero), por exemplo: offset=0', 'type': 'integer'}}, 'type': 'object'}}}], 'ls_structured_output_format': {'kwargs': {'method': 'function_calling'}, 'schema': {'type': 'function', 'function': {'name': 'HorusMedicineStockRequest2', 'description': '', 'parameters': {'properties': {'codigo_uf': {'anyOf': [{'type': 'string'}, {'type': 'null'}], 'default': None, 'description': 'Filtra pelo Código IBGE da Unidade da Federação à qual pertence o estabelecimento'}, 'data_posicao_estoque': {'anyOf': [{'type': 'string'}, {'type': 'null'}], 'default': None, 'description': 'Filtra pela Data da posição de estoque informada. Formato: AAAA-MM-DD. Exemplo: 2024-02-21'}, 'codigo_catmat': {'anyOf': [{'type': 'string'}, {'type': 'null'}], 'default': None, 'description': 'Filtra pelo Código CATMAT com unidade de fornecimento do item em estoque'}, 'limit': {'default': 100, 'description': 'Quantidade de itens retornados por página. Deve ser menor ou igual 20', 'type': 'integer'}, 'offset': {'default': 0, 'description': 'Número da página de itens que deve ser retornada. Observação: As páginas iniciam a contagem a partir de 0 (zero), por exemplo: offset=0', 'type': 'integer'}}, 'type': 'object'}}}}, 'tool_choice': {'type': 'function', 'function': {'name': 'HorusMedicineStockRequest2'}}}\n"
     ]
    },
    {
     "data": {
      "text/plain": [
       "HorusMedicineStockRequest2(codigo_uf='53', data_posicao_estoque=None, codigo_catmat=None, limit=5, offset=0)"
      ]
     },
     "execution_count": 74,
     "metadata": {},
     "output_type": "execute_result"
    }
   ],
   "source": [
    "question=\"\"\"\n",
    "Gostaria de saber os últimos 5 registro do estoque de medicamentos de Brasília.\n",
    "\"\"\"\n",
    "resp = qta.get_structured_output(question=question)\n",
    "resp"
   ]
  },
  {
   "cell_type": "code",
   "execution_count": 75,
   "id": "4bc857d5",
   "metadata": {},
   "outputs": [
    {
     "name": "stdout",
     "output_type": "stream",
     "text": [
      "input_variables=['question'] input_types={} partial_variables={} messages=[SystemMessagePromptTemplate(prompt=PromptTemplate(input_variables=[], input_types={}, partial_variables={}, template='\\nYou are an expert extraction algorithm, specialized in extract relevant information from the text \\nand return a output as specified by the provided JSON schema.\\nDo not generate any new information or extra characters outside of the JSON schema.\\nThis JSON schema is used like a request object to consult Horus API to get relavant medicine stock \\ninformation by brasilian city and state.\\nSome attributes of JSON schema should be filled with a known id. To do this, you must use the \\ncontext provided below. You must return only the codes provided in the context. \\nIf you do not find any information, return the field with the value None or an empty string.\\nNever return a code for cities and states that are not on the list.\\n\\nIBGE code of the Brazilian States, also called Federation Unit (UF):\\n- Nome do Estado (UF) = Acre, Sigla = AC, Código IBGE = 12\\n- Nome do Estado (UF) = Ceará, Sigla = CE, Código IBGE = 23\\n- Nome do Estado (UF) = São Paulo, Sigla = SP, Código IBGE = 35\\n- Nome do Estado (UF) = Paraná, Sigla = PR, Código IBGE = 41\\n- Nome do Estado (UF) = Bahia, Sigla = BA, Código IBGE = 29\\n- Nome do Estado (UF) = Goiás, Sigla = GO, Código IBGE = 52\\n- Nome do Estado (UF) = Distrito Federal, Sigla = DF, Código IBGE = 53\\n- Nome do Estado (UF) = Santa Catarina, Sigla = BA, Código IBGE = 42\\n\\nCATMAT code (Catálogo de Materiais):\\n- Princípio ativo = Ibuprofeno, Código CATMAT = BR0332755-6\\n- Princípio ativo = Paracetamol, Código CATMAT = BR0267778\\n- Princípio ativo = Esomeprazol, Magnésio, Código CATMAT = BR0274186\\n- Princípio ativo = Nimesulida, Código CATMAT = BR0273710\\n'), additional_kwargs={}), HumanMessagePromptTemplate(prompt=PromptTemplate(input_variables=['question'], input_types={}, partial_variables={}, template='{question}'), additional_kwargs={})]\n",
      "Structured LLM tool schema:\n",
      " {'tools': [{'type': 'function', 'function': {'name': 'HorusMedicineStockRequest2', 'description': '', 'parameters': {'properties': {'codigo_uf': {'anyOf': [{'type': 'string'}, {'type': 'null'}], 'default': None, 'description': 'Filtra pelo Código IBGE da Unidade da Federação à qual pertence o estabelecimento'}, 'data_posicao_estoque': {'anyOf': [{'type': 'string'}, {'type': 'null'}], 'default': None, 'description': 'Filtra pela Data da posição de estoque informada. Formato: AAAA-MM-DD. Exemplo: 2024-02-21'}, 'codigo_catmat': {'anyOf': [{'type': 'string'}, {'type': 'null'}], 'default': None, 'description': 'Filtra pelo Código CATMAT com unidade de fornecimento do item em estoque'}, 'limit': {'default': 100, 'description': 'Quantidade de itens retornados por página. Deve ser menor ou igual 20', 'type': 'integer'}, 'offset': {'default': 0, 'description': 'Número da página de itens que deve ser retornada. Observação: As páginas iniciam a contagem a partir de 0 (zero), por exemplo: offset=0', 'type': 'integer'}}, 'type': 'object'}}}], 'ls_structured_output_format': {'kwargs': {'method': 'function_calling'}, 'schema': {'type': 'function', 'function': {'name': 'HorusMedicineStockRequest2', 'description': '', 'parameters': {'properties': {'codigo_uf': {'anyOf': [{'type': 'string'}, {'type': 'null'}], 'default': None, 'description': 'Filtra pelo Código IBGE da Unidade da Federação à qual pertence o estabelecimento'}, 'data_posicao_estoque': {'anyOf': [{'type': 'string'}, {'type': 'null'}], 'default': None, 'description': 'Filtra pela Data da posição de estoque informada. Formato: AAAA-MM-DD. Exemplo: 2024-02-21'}, 'codigo_catmat': {'anyOf': [{'type': 'string'}, {'type': 'null'}], 'default': None, 'description': 'Filtra pelo Código CATMAT com unidade de fornecimento do item em estoque'}, 'limit': {'default': 100, 'description': 'Quantidade de itens retornados por página. Deve ser menor ou igual 20', 'type': 'integer'}, 'offset': {'default': 0, 'description': 'Número da página de itens que deve ser retornada. Observação: As páginas iniciam a contagem a partir de 0 (zero), por exemplo: offset=0', 'type': 'integer'}}, 'type': 'object'}}}}, 'tool_choice': {'type': 'function', 'function': {'name': 'HorusMedicineStockRequest2'}}}\n"
     ]
    },
    {
     "data": {
      "text/plain": [
       "HorusMedicineStockRequest2(codigo_uf='42', data_posicao_estoque=None, codigo_catmat=None, limit=5, offset=0)"
      ]
     },
     "execution_count": 75,
     "metadata": {},
     "output_type": "execute_result"
    }
   ],
   "source": [
    "question=\"\"\"\n",
    "Gostaria de saber os últimos 5 registro do estoque de medicamentos de Joinville.\n",
    "\"\"\"\n",
    "resp = qta.get_structured_output(question=question)\n",
    "resp"
   ]
  },
  {
   "cell_type": "code",
   "execution_count": null,
   "id": "e133884f",
   "metadata": {},
   "outputs": [
    {
     "name": "stdout",
     "output_type": "stream",
     "text": [
      "input_variables=['question'] input_types={} partial_variables={} messages=[SystemMessagePromptTemplate(prompt=PromptTemplate(input_variables=[], input_types={}, partial_variables={}, template='\\nYou are an expert extraction algorithm, specialized in extract relevant information from the text \\nand return a output as specified by the provided JSON schema.\\nDo not generate any new information or extra characters outside of the JSON schema.\\nThis JSON schema is used like a request object to consult Horus API to get relavant medicine stock \\ninformation by brasilian city and state.\\nSome attributes of JSON schema should be filled with a known id. To do this, you must use the \\ncontext provided below. You must return only the codes provided in the context. \\nIf you do not find any information, return the field with the value None or an empty string.\\nNever return a code for cities and states that are not on the list.\\n\\nIBGE code of the Brazilian States, also called Federation Unit (UF):\\n- Nome do Estado (UF) = Acre, Sigla = AC, Código IBGE = 12\\n- Nome do Estado (UF) = Ceará, Sigla = CE, Código IBGE = 23\\n- Nome do Estado (UF) = São Paulo, Sigla = SP, Código IBGE = 35\\n- Nome do Estado (UF) = Paraná, Sigla = PR, Código IBGE = 41\\n- Nome do Estado (UF) = Bahia, Sigla = BA, Código IBGE = 29\\n- Nome do Estado (UF) = Goiás, Sigla = GO, Código IBGE = 52\\n- Nome do Estado (UF) = Distrito Federal, Sigla = DF, Código IBGE = 53\\n- Nome do Estado (UF) = Santa Catarina, Sigla = BA, Código IBGE = 42\\n\\nCATMAT code (Catálogo de Materiais):\\n- Princípio ativo = Ibuprofeno, Código CATMAT = BR0332755-6\\n- Princípio ativo = Paracetamol, Código CATMAT = BR0267778\\n- Princípio ativo = Esomeprazol, Magnésio, Código CATMAT = BR0274186\\n- Princípio ativo = Nimesulida, Código CATMAT = BR0273710\\n'), additional_kwargs={}), HumanMessagePromptTemplate(prompt=PromptTemplate(input_variables=['question'], input_types={}, partial_variables={}, template='{question}'), additional_kwargs={})]\n",
      "Structured LLM tool schema:\n",
      " {'tools': [{'type': 'function', 'function': {'name': 'HorusMedicineStockRequest2', 'description': '', 'parameters': {'properties': {'codigo_uf': {'anyOf': [{'type': 'string'}, {'type': 'null'}], 'default': None, 'description': 'Filtra pelo Código IBGE da Unidade da Federação à qual pertence o estabelecimento'}, 'data_posicao_estoque': {'anyOf': [{'type': 'string'}, {'type': 'null'}], 'default': None, 'description': 'Filtra pela Data da posição de estoque informada. Formato: AAAA-MM-DD. Exemplo: 2024-02-21'}, 'codigo_catmat': {'anyOf': [{'type': 'string'}, {'type': 'null'}], 'default': None, 'description': 'Filtra pelo Código CATMAT com unidade de fornecimento do item em estoque'}, 'limit': {'default': 100, 'description': 'Quantidade de itens retornados por página. Deve ser menor ou igual 20', 'type': 'integer'}, 'offset': {'default': 0, 'description': 'Número da página de itens que deve ser retornada. Observação: As páginas iniciam a contagem a partir de 0 (zero), por exemplo: offset=0', 'type': 'integer'}}, 'type': 'object'}}}], 'ls_structured_output_format': {'kwargs': {'method': 'function_calling'}, 'schema': {'type': 'function', 'function': {'name': 'HorusMedicineStockRequest2', 'description': '', 'parameters': {'properties': {'codigo_uf': {'anyOf': [{'type': 'string'}, {'type': 'null'}], 'default': None, 'description': 'Filtra pelo Código IBGE da Unidade da Federação à qual pertence o estabelecimento'}, 'data_posicao_estoque': {'anyOf': [{'type': 'string'}, {'type': 'null'}], 'default': None, 'description': 'Filtra pela Data da posição de estoque informada. Formato: AAAA-MM-DD. Exemplo: 2024-02-21'}, 'codigo_catmat': {'anyOf': [{'type': 'string'}, {'type': 'null'}], 'default': None, 'description': 'Filtra pelo Código CATMAT com unidade de fornecimento do item em estoque'}, 'limit': {'default': 100, 'description': 'Quantidade de itens retornados por página. Deve ser menor ou igual 20', 'type': 'integer'}, 'offset': {'default': 0, 'description': 'Número da página de itens que deve ser retornada. Observação: As páginas iniciam a contagem a partir de 0 (zero), por exemplo: offset=0', 'type': 'integer'}}, 'type': 'object'}}}}, 'tool_choice': {'type': 'function', 'function': {'name': 'HorusMedicineStockRequest2'}}}\n"
     ]
    },
    {
     "data": {
      "text/plain": [
       "HorusMedicineStockRequest2(codigo_uf=None, data_posicao_estoque=None, codigo_catmat=None, limit=5, offset=0)"
      ]
     },
     "execution_count": 76,
     "metadata": {},
     "output_type": "execute_result"
    }
   ],
   "source": [
    "question=\"\"\"\n",
    "Gostaria de saber os últimos 5 registro do estoque de medicamentos da Indonésia.\n",
    "\"\"\"\n",
    "resp = qta.get_structured_output(question=question)\n",
    "resp"
   ]
  },
  {
   "cell_type": "code",
   "execution_count": 77,
   "id": "ea9e3c72",
   "metadata": {},
   "outputs": [
    {
     "name": "stdout",
     "output_type": "stream",
     "text": [
      "input_variables=['question'] input_types={} partial_variables={} messages=[SystemMessagePromptTemplate(prompt=PromptTemplate(input_variables=[], input_types={}, partial_variables={}, template='\\nYou are an expert extraction algorithm, specialized in extract relevant information from the text \\nand return a output as specified by the provided JSON schema.\\nDo not generate any new information or extra characters outside of the JSON schema.\\nThis JSON schema is used like a request object to consult Horus API to get relavant medicine stock \\ninformation by brasilian city and state.\\nSome attributes of JSON schema should be filled with a known id. To do this, you must use the \\ncontext provided below. You must return only the codes provided in the context. \\nIf you do not find any information, return the field with the value None or an empty string.\\nNever return a code for cities and states that are not on the list.\\n\\nIBGE code of the Brazilian States, also called Federation Unit (UF):\\n- Nome do Estado (UF) = Acre, Sigla = AC, Código IBGE = 12\\n- Nome do Estado (UF) = Ceará, Sigla = CE, Código IBGE = 23\\n- Nome do Estado (UF) = São Paulo, Sigla = SP, Código IBGE = 35\\n- Nome do Estado (UF) = Paraná, Sigla = PR, Código IBGE = 41\\n- Nome do Estado (UF) = Bahia, Sigla = BA, Código IBGE = 29\\n- Nome do Estado (UF) = Goiás, Sigla = GO, Código IBGE = 52\\n- Nome do Estado (UF) = Distrito Federal, Sigla = DF, Código IBGE = 53\\n- Nome do Estado (UF) = Santa Catarina, Sigla = BA, Código IBGE = 42\\n\\nCATMAT code (Catálogo de Materiais):\\n- Princípio ativo = Ibuprofeno, Código CATMAT = BR0332755-6\\n- Princípio ativo = Paracetamol, Código CATMAT = BR0267778\\n- Princípio ativo = Esomeprazol, Magnésio, Código CATMAT = BR0274186\\n- Princípio ativo = Nimesulida, Código CATMAT = BR0273710\\n'), additional_kwargs={}), HumanMessagePromptTemplate(prompt=PromptTemplate(input_variables=['question'], input_types={}, partial_variables={}, template='{question}'), additional_kwargs={})]\n",
      "Structured LLM tool schema:\n",
      " {'tools': [{'type': 'function', 'function': {'name': 'HorusMedicineStockRequest2', 'description': '', 'parameters': {'properties': {'codigo_uf': {'anyOf': [{'type': 'string'}, {'type': 'null'}], 'default': None, 'description': 'Filtra pelo Código IBGE da Unidade da Federação à qual pertence o estabelecimento'}, 'data_posicao_estoque': {'anyOf': [{'type': 'string'}, {'type': 'null'}], 'default': None, 'description': 'Filtra pela Data da posição de estoque informada. Formato: AAAA-MM-DD. Exemplo: 2024-02-21'}, 'codigo_catmat': {'anyOf': [{'type': 'string'}, {'type': 'null'}], 'default': None, 'description': 'Filtra pelo Código CATMAT com unidade de fornecimento do item em estoque'}, 'limit': {'default': 100, 'description': 'Quantidade de itens retornados por página. Deve ser menor ou igual 20', 'type': 'integer'}, 'offset': {'default': 0, 'description': 'Número da página de itens que deve ser retornada. Observação: As páginas iniciam a contagem a partir de 0 (zero), por exemplo: offset=0', 'type': 'integer'}}, 'type': 'object'}}}], 'ls_structured_output_format': {'kwargs': {'method': 'function_calling'}, 'schema': {'type': 'function', 'function': {'name': 'HorusMedicineStockRequest2', 'description': '', 'parameters': {'properties': {'codigo_uf': {'anyOf': [{'type': 'string'}, {'type': 'null'}], 'default': None, 'description': 'Filtra pelo Código IBGE da Unidade da Federação à qual pertence o estabelecimento'}, 'data_posicao_estoque': {'anyOf': [{'type': 'string'}, {'type': 'null'}], 'default': None, 'description': 'Filtra pela Data da posição de estoque informada. Formato: AAAA-MM-DD. Exemplo: 2024-02-21'}, 'codigo_catmat': {'anyOf': [{'type': 'string'}, {'type': 'null'}], 'default': None, 'description': 'Filtra pelo Código CATMAT com unidade de fornecimento do item em estoque'}, 'limit': {'default': 100, 'description': 'Quantidade de itens retornados por página. Deve ser menor ou igual 20', 'type': 'integer'}, 'offset': {'default': 0, 'description': 'Número da página de itens que deve ser retornada. Observação: As páginas iniciam a contagem a partir de 0 (zero), por exemplo: offset=0', 'type': 'integer'}}, 'type': 'object'}}}}, 'tool_choice': {'type': 'function', 'function': {'name': 'HorusMedicineStockRequest2'}}}\n"
     ]
    },
    {
     "data": {
      "text/plain": [
       "HorusMedicineStockRequest2(codigo_uf='53', data_posicao_estoque=None, codigo_catmat='BR0267778', limit=100, offset=0)"
      ]
     },
     "execution_count": 77,
     "metadata": {},
     "output_type": "execute_result"
    }
   ],
   "source": [
    "question=\"\"\"\n",
    "Gostaria de obter informações sobre o estoque de paracetamol em Brasília.\n",
    "\"\"\"\n",
    "resp = qta.get_structured_output(question=question)\n",
    "resp"
   ]
  },
  {
   "cell_type": "code",
   "execution_count": 78,
   "id": "e3de5ae8",
   "metadata": {},
   "outputs": [
    {
     "name": "stdout",
     "output_type": "stream",
     "text": [
      "input_variables=['question'] input_types={} partial_variables={} messages=[SystemMessagePromptTemplate(prompt=PromptTemplate(input_variables=[], input_types={}, partial_variables={}, template='\\nYou are an expert extraction algorithm, specialized in extract relevant information from the text \\nand return a output as specified by the provided JSON schema.\\nDo not generate any new information or extra characters outside of the JSON schema.\\nThis JSON schema is used like a request object to consult Horus API to get relavant medicine stock \\ninformation by brasilian city and state.\\nSome attributes of JSON schema should be filled with a known id. To do this, you must use the \\ncontext provided below. You must return only the codes provided in the context. \\nIf you do not find any information, return the field with the value None or an empty string.\\nNever return a code for cities and states that are not on the list.\\n\\nIBGE code of the Brazilian States, also called Federation Unit (UF):\\n- Nome do Estado (UF) = Acre, Sigla = AC, Código IBGE = 12\\n- Nome do Estado (UF) = Ceará, Sigla = CE, Código IBGE = 23\\n- Nome do Estado (UF) = São Paulo, Sigla = SP, Código IBGE = 35\\n- Nome do Estado (UF) = Paraná, Sigla = PR, Código IBGE = 41\\n- Nome do Estado (UF) = Bahia, Sigla = BA, Código IBGE = 29\\n- Nome do Estado (UF) = Goiás, Sigla = GO, Código IBGE = 52\\n- Nome do Estado (UF) = Distrito Federal, Sigla = DF, Código IBGE = 53\\n- Nome do Estado (UF) = Santa Catarina, Sigla = BA, Código IBGE = 42\\n\\nCATMAT code (Catálogo de Materiais):\\n- Princípio ativo = Ibuprofeno, Código CATMAT = BR0332755-6\\n- Princípio ativo = Paracetamol, Código CATMAT = BR0267778\\n- Princípio ativo = Esomeprazol, Magnésio, Código CATMAT = BR0274186\\n- Princípio ativo = Nimesulida, Código CATMAT = BR0273710\\n'), additional_kwargs={}), HumanMessagePromptTemplate(prompt=PromptTemplate(input_variables=['question'], input_types={}, partial_variables={}, template='{question}'), additional_kwargs={})]\n",
      "Structured LLM tool schema:\n",
      " {'tools': [{'type': 'function', 'function': {'name': 'HorusMedicineStockRequest2', 'description': '', 'parameters': {'properties': {'codigo_uf': {'anyOf': [{'type': 'string'}, {'type': 'null'}], 'default': None, 'description': 'Filtra pelo Código IBGE da Unidade da Federação à qual pertence o estabelecimento'}, 'data_posicao_estoque': {'anyOf': [{'type': 'string'}, {'type': 'null'}], 'default': None, 'description': 'Filtra pela Data da posição de estoque informada. Formato: AAAA-MM-DD. Exemplo: 2024-02-21'}, 'codigo_catmat': {'anyOf': [{'type': 'string'}, {'type': 'null'}], 'default': None, 'description': 'Filtra pelo Código CATMAT com unidade de fornecimento do item em estoque'}, 'limit': {'default': 100, 'description': 'Quantidade de itens retornados por página. Deve ser menor ou igual 20', 'type': 'integer'}, 'offset': {'default': 0, 'description': 'Número da página de itens que deve ser retornada. Observação: As páginas iniciam a contagem a partir de 0 (zero), por exemplo: offset=0', 'type': 'integer'}}, 'type': 'object'}}}], 'ls_structured_output_format': {'kwargs': {'method': 'function_calling'}, 'schema': {'type': 'function', 'function': {'name': 'HorusMedicineStockRequest2', 'description': '', 'parameters': {'properties': {'codigo_uf': {'anyOf': [{'type': 'string'}, {'type': 'null'}], 'default': None, 'description': 'Filtra pelo Código IBGE da Unidade da Federação à qual pertence o estabelecimento'}, 'data_posicao_estoque': {'anyOf': [{'type': 'string'}, {'type': 'null'}], 'default': None, 'description': 'Filtra pela Data da posição de estoque informada. Formato: AAAA-MM-DD. Exemplo: 2024-02-21'}, 'codigo_catmat': {'anyOf': [{'type': 'string'}, {'type': 'null'}], 'default': None, 'description': 'Filtra pelo Código CATMAT com unidade de fornecimento do item em estoque'}, 'limit': {'default': 100, 'description': 'Quantidade de itens retornados por página. Deve ser menor ou igual 20', 'type': 'integer'}, 'offset': {'default': 0, 'description': 'Número da página de itens que deve ser retornada. Observação: As páginas iniciam a contagem a partir de 0 (zero), por exemplo: offset=0', 'type': 'integer'}}, 'type': 'object'}}}}, 'tool_choice': {'type': 'function', 'function': {'name': 'HorusMedicineStockRequest2'}}}\n"
     ]
    },
    {
     "data": {
      "text/plain": [
       "HorusMedicineStockRequest2(codigo_uf='53', data_posicao_estoque='2024-02-21', codigo_catmat='BR0267778', limit=100, offset=0)"
      ]
     },
     "execution_count": 78,
     "metadata": {},
     "output_type": "execute_result"
    }
   ],
   "source": [
    "question=\"\"\"\n",
    "Gostaria de obter informações sobre o estoque de paracetamol em Brasília ontem.\n",
    "\"\"\"\n",
    "resp = qta.get_structured_output(question=question)\n",
    "resp"
   ]
  },
  {
   "cell_type": "code",
   "execution_count": 81,
   "id": "4be1f10d",
   "metadata": {},
   "outputs": [
    {
     "name": "stdout",
     "output_type": "stream",
     "text": [
      "input_variables=['question'] input_types={} partial_variables={} messages=[SystemMessagePromptTemplate(prompt=PromptTemplate(input_variables=[], input_types={}, partial_variables={}, template='\\nYou are an expert extraction algorithm, specialized in extract relevant information from the text \\nand return a output as specified by the provided JSON schema.\\nDo not generate any new information or extra characters outside of the JSON schema.\\nThis JSON schema is used like a request object to consult Horus API to get relavant medicine stock \\ninformation by brasilian city and state.\\nSome attributes of JSON schema should be filled with a known id. To do this, you must use the \\ncontext provided below. You must return only the codes provided in the context. \\nIf you do not find any information, return the field with the value None or an empty string.\\nNever return a code for cities and states that are not on the list.\\n\\nIBGE code of the Brazilian States, also called Federation Unit (UF):\\n- Nome do Estado (UF) = Acre, Sigla = AC, Código IBGE = 12\\n- Nome do Estado (UF) = Ceará, Sigla = CE, Código IBGE = 23\\n- Nome do Estado (UF) = São Paulo, Sigla = SP, Código IBGE = 35\\n- Nome do Estado (UF) = Paraná, Sigla = PR, Código IBGE = 41\\n- Nome do Estado (UF) = Bahia, Sigla = BA, Código IBGE = 29\\n- Nome do Estado (UF) = Goiás, Sigla = GO, Código IBGE = 52\\n- Nome do Estado (UF) = Distrito Federal, Sigla = DF, Código IBGE = 53\\n- Nome do Estado (UF) = Santa Catarina, Sigla = BA, Código IBGE = 42\\n\\nCATMAT code (Catálogo de Materiais):\\n- Princípio ativo = Ibuprofeno, Código CATMAT = BR0332755-6\\n- Princípio ativo = Paracetamol, Código CATMAT = BR0267778\\n- Princípio ativo = Esomeprazol, Magnésio, Código CATMAT = BR0274186\\n- Princípio ativo = Nimesulida, Código CATMAT = BR0273710\\n'), additional_kwargs={}), HumanMessagePromptTemplate(prompt=PromptTemplate(input_variables=['question'], input_types={}, partial_variables={}, template='{question}'), additional_kwargs={})]\n",
      "Structured LLM tool schema:\n",
      " {'tools': [{'type': 'function', 'function': {'name': 'HorusMedicineStockRequest2', 'description': '', 'parameters': {'properties': {'codigo_uf': {'anyOf': [{'type': 'string'}, {'type': 'null'}], 'default': None, 'description': 'Filtra pelo Código IBGE da Unidade da Federação à qual pertence o estabelecimento'}, 'data_posicao_estoque': {'anyOf': [{'type': 'string'}, {'type': 'null'}], 'default': None, 'description': 'Filtra pela Data da posição de estoque informada. Formato: AAAA-MM-DD. Exemplo: 2024-02-21'}, 'codigo_catmat': {'anyOf': [{'type': 'string'}, {'type': 'null'}], 'default': None, 'description': 'Filtra pelo Código CATMAT com unidade de fornecimento do item em estoque'}, 'limit': {'default': 100, 'description': 'Quantidade de itens retornados por página. Deve ser menor ou igual 20', 'type': 'integer'}, 'offset': {'default': 0, 'description': 'Número da página de itens que deve ser retornada. Observação: As páginas iniciam a contagem a partir de 0 (zero), por exemplo: offset=0', 'type': 'integer'}}, 'type': 'object'}}}], 'ls_structured_output_format': {'kwargs': {'method': 'function_calling'}, 'schema': {'type': 'function', 'function': {'name': 'HorusMedicineStockRequest2', 'description': '', 'parameters': {'properties': {'codigo_uf': {'anyOf': [{'type': 'string'}, {'type': 'null'}], 'default': None, 'description': 'Filtra pelo Código IBGE da Unidade da Federação à qual pertence o estabelecimento'}, 'data_posicao_estoque': {'anyOf': [{'type': 'string'}, {'type': 'null'}], 'default': None, 'description': 'Filtra pela Data da posição de estoque informada. Formato: AAAA-MM-DD. Exemplo: 2024-02-21'}, 'codigo_catmat': {'anyOf': [{'type': 'string'}, {'type': 'null'}], 'default': None, 'description': 'Filtra pelo Código CATMAT com unidade de fornecimento do item em estoque'}, 'limit': {'default': 100, 'description': 'Quantidade de itens retornados por página. Deve ser menor ou igual 20', 'type': 'integer'}, 'offset': {'default': 0, 'description': 'Número da página de itens que deve ser retornada. Observação: As páginas iniciam a contagem a partir de 0 (zero), por exemplo: offset=0', 'type': 'integer'}}, 'type': 'object'}}}}, 'tool_choice': {'type': 'function', 'function': {'name': 'HorusMedicineStockRequest2'}}}\n"
     ]
    },
    {
     "data": {
      "text/plain": [
       "HorusMedicineStockRequest2(codigo_uf='53', data_posicao_estoque=None, codigo_catmat='BR0267778', limit=100, offset=0)"
      ]
     },
     "execution_count": 81,
     "metadata": {},
     "output_type": "execute_result"
    }
   ],
   "source": [
    "question=\"\"\"\n",
    "Gostaria de obter informações sobre o estoque de paracetamol em Brasília na data de hoje.\n",
    "\"\"\"\n",
    "resp = qta.get_structured_output(question=question)\n",
    "resp"
   ]
  },
  {
   "cell_type": "code",
   "execution_count": 82,
   "id": "da3ed0c6",
   "metadata": {},
   "outputs": [
    {
     "name": "stdout",
     "output_type": "stream",
     "text": [
      "input_variables=['question'] input_types={} partial_variables={} messages=[SystemMessagePromptTemplate(prompt=PromptTemplate(input_variables=[], input_types={}, partial_variables={}, template='\\nYou are an expert extraction algorithm, specialized in extract relevant information from the text \\nand return a output as specified by the provided JSON schema.\\nDo not generate any new information or extra characters outside of the JSON schema.\\nThis JSON schema is used like a request object to consult Horus API to get relavant medicine stock \\ninformation by brasilian city and state.\\nSome attributes of JSON schema should be filled with a known id. To do this, you must use the \\ncontext provided below. You must return only the codes provided in the context. \\nIf you do not find any information, return the field with the value None or an empty string.\\nNever return a code for cities and states that are not on the list.\\n\\nIBGE code of the Brazilian States, also called Federation Unit (UF):\\n- Nome do Estado (UF) = Acre, Sigla = AC, Código IBGE = 12\\n- Nome do Estado (UF) = Ceará, Sigla = CE, Código IBGE = 23\\n- Nome do Estado (UF) = São Paulo, Sigla = SP, Código IBGE = 35\\n- Nome do Estado (UF) = Paraná, Sigla = PR, Código IBGE = 41\\n- Nome do Estado (UF) = Bahia, Sigla = BA, Código IBGE = 29\\n- Nome do Estado (UF) = Goiás, Sigla = GO, Código IBGE = 52\\n- Nome do Estado (UF) = Distrito Federal, Sigla = DF, Código IBGE = 53\\n- Nome do Estado (UF) = Santa Catarina, Sigla = BA, Código IBGE = 42\\n\\nCATMAT code (Catálogo de Materiais):\\n- Princípio ativo = Ibuprofeno, Código CATMAT = BR0332755-6\\n- Princípio ativo = Paracetamol, Código CATMAT = BR0267778\\n- Princípio ativo = Esomeprazol, Magnésio, Código CATMAT = BR0274186\\n- Princípio ativo = Nimesulida, Código CATMAT = BR0273710\\n'), additional_kwargs={}), HumanMessagePromptTemplate(prompt=PromptTemplate(input_variables=['question'], input_types={}, partial_variables={}, template='{question}'), additional_kwargs={})]\n",
      "Structured LLM tool schema:\n",
      " {'tools': [{'type': 'function', 'function': {'name': 'HorusMedicineStockRequest2', 'description': '', 'parameters': {'properties': {'codigo_uf': {'anyOf': [{'type': 'string'}, {'type': 'null'}], 'default': None, 'description': 'Filtra pelo Código IBGE da Unidade da Federação à qual pertence o estabelecimento'}, 'data_posicao_estoque': {'anyOf': [{'type': 'string'}, {'type': 'null'}], 'default': None, 'description': 'Filtra pela Data da posição de estoque informada. Formato: AAAA-MM-DD. Exemplo: 2024-02-21'}, 'codigo_catmat': {'anyOf': [{'type': 'string'}, {'type': 'null'}], 'default': None, 'description': 'Filtra pelo Código CATMAT com unidade de fornecimento do item em estoque'}, 'limit': {'default': 100, 'description': 'Quantidade de itens retornados por página. Deve ser menor ou igual 20', 'type': 'integer'}, 'offset': {'default': 0, 'description': 'Número da página de itens que deve ser retornada. Observação: As páginas iniciam a contagem a partir de 0 (zero), por exemplo: offset=0', 'type': 'integer'}}, 'type': 'object'}}}], 'ls_structured_output_format': {'kwargs': {'method': 'function_calling'}, 'schema': {'type': 'function', 'function': {'name': 'HorusMedicineStockRequest2', 'description': '', 'parameters': {'properties': {'codigo_uf': {'anyOf': [{'type': 'string'}, {'type': 'null'}], 'default': None, 'description': 'Filtra pelo Código IBGE da Unidade da Federação à qual pertence o estabelecimento'}, 'data_posicao_estoque': {'anyOf': [{'type': 'string'}, {'type': 'null'}], 'default': None, 'description': 'Filtra pela Data da posição de estoque informada. Formato: AAAA-MM-DD. Exemplo: 2024-02-21'}, 'codigo_catmat': {'anyOf': [{'type': 'string'}, {'type': 'null'}], 'default': None, 'description': 'Filtra pelo Código CATMAT com unidade de fornecimento do item em estoque'}, 'limit': {'default': 100, 'description': 'Quantidade de itens retornados por página. Deve ser menor ou igual 20', 'type': 'integer'}, 'offset': {'default': 0, 'description': 'Número da página de itens que deve ser retornada. Observação: As páginas iniciam a contagem a partir de 0 (zero), por exemplo: offset=0', 'type': 'integer'}}, 'type': 'object'}}}}, 'tool_choice': {'type': 'function', 'function': {'name': 'HorusMedicineStockRequest2'}}}\n"
     ]
    },
    {
     "data": {
      "text/plain": [
       "HorusMedicineStockRequest2(codigo_uf='53', data_posicao_estoque='2025-01-01', codigo_catmat='BR0267778', limit=100, offset=0)"
      ]
     },
     "execution_count": 82,
     "metadata": {},
     "output_type": "execute_result"
    }
   ],
   "source": [
    "question=\"\"\"\n",
    "Gostaria de obter informações sobre o estoque de paracetamol em Brasília a partir de 2025.\n",
    "\"\"\"\n",
    "resp = qta.get_structured_output(question=question)\n",
    "resp"
   ]
  },
  {
   "cell_type": "code",
   "execution_count": 83,
   "id": "d9a761ee",
   "metadata": {},
   "outputs": [
    {
     "name": "stdout",
     "output_type": "stream",
     "text": [
      "input_variables=['question'] input_types={} partial_variables={} messages=[SystemMessagePromptTemplate(prompt=PromptTemplate(input_variables=[], input_types={}, partial_variables={}, template='\\nYou are an expert extraction algorithm, specialized in extract relevant information from the text \\nand return a output as specified by the provided JSON schema.\\nDo not generate any new information or extra characters outside of the JSON schema.\\nThis JSON schema is used like a request object to consult Horus API to get relavant medicine stock \\ninformation by brasilian city and state.\\nSome attributes of JSON schema should be filled with a known id. To do this, you must use the \\ncontext provided below. You must return only the codes provided in the context. \\nIf you do not find any information, return the field with the value None or an empty string.\\nNever return a code for cities and states that are not on the list.\\n\\nIBGE code of the Brazilian States, also called Federation Unit (UF):\\n- Nome do Estado (UF) = Acre, Sigla = AC, Código IBGE = 12\\n- Nome do Estado (UF) = Ceará, Sigla = CE, Código IBGE = 23\\n- Nome do Estado (UF) = São Paulo, Sigla = SP, Código IBGE = 35\\n- Nome do Estado (UF) = Paraná, Sigla = PR, Código IBGE = 41\\n- Nome do Estado (UF) = Bahia, Sigla = BA, Código IBGE = 29\\n- Nome do Estado (UF) = Goiás, Sigla = GO, Código IBGE = 52\\n- Nome do Estado (UF) = Distrito Federal, Sigla = DF, Código IBGE = 53\\n- Nome do Estado (UF) = Santa Catarina, Sigla = BA, Código IBGE = 42\\n\\nCATMAT code (Catálogo de Materiais):\\n- Princípio ativo = Ibuprofeno, Código CATMAT = BR0332755-6\\n- Princípio ativo = Paracetamol, Código CATMAT = BR0267778\\n- Princípio ativo = Esomeprazol, Magnésio, Código CATMAT = BR0274186\\n- Princípio ativo = Nimesulida, Código CATMAT = BR0273710\\n'), additional_kwargs={}), HumanMessagePromptTemplate(prompt=PromptTemplate(input_variables=['question'], input_types={}, partial_variables={}, template='{question}'), additional_kwargs={})]\n",
      "Structured LLM tool schema:\n",
      " {'tools': [{'type': 'function', 'function': {'name': 'HorusMedicineStockRequest2', 'description': '', 'parameters': {'properties': {'codigo_uf': {'anyOf': [{'type': 'string'}, {'type': 'null'}], 'default': None, 'description': 'Filtra pelo Código IBGE da Unidade da Federação à qual pertence o estabelecimento'}, 'data_posicao_estoque': {'anyOf': [{'type': 'string'}, {'type': 'null'}], 'default': None, 'description': 'Filtra pela Data da posição de estoque informada. Formato: AAAA-MM-DD. Exemplo: 2024-02-21'}, 'codigo_catmat': {'anyOf': [{'type': 'string'}, {'type': 'null'}], 'default': None, 'description': 'Filtra pelo Código CATMAT com unidade de fornecimento do item em estoque'}, 'limit': {'default': 100, 'description': 'Quantidade de itens retornados por página. Deve ser menor ou igual 20', 'type': 'integer'}, 'offset': {'default': 0, 'description': 'Número da página de itens que deve ser retornada. Observação: As páginas iniciam a contagem a partir de 0 (zero), por exemplo: offset=0', 'type': 'integer'}}, 'type': 'object'}}}], 'ls_structured_output_format': {'kwargs': {'method': 'function_calling'}, 'schema': {'type': 'function', 'function': {'name': 'HorusMedicineStockRequest2', 'description': '', 'parameters': {'properties': {'codigo_uf': {'anyOf': [{'type': 'string'}, {'type': 'null'}], 'default': None, 'description': 'Filtra pelo Código IBGE da Unidade da Federação à qual pertence o estabelecimento'}, 'data_posicao_estoque': {'anyOf': [{'type': 'string'}, {'type': 'null'}], 'default': None, 'description': 'Filtra pela Data da posição de estoque informada. Formato: AAAA-MM-DD. Exemplo: 2024-02-21'}, 'codigo_catmat': {'anyOf': [{'type': 'string'}, {'type': 'null'}], 'default': None, 'description': 'Filtra pelo Código CATMAT com unidade de fornecimento do item em estoque'}, 'limit': {'default': 100, 'description': 'Quantidade de itens retornados por página. Deve ser menor ou igual 20', 'type': 'integer'}, 'offset': {'default': 0, 'description': 'Número da página de itens que deve ser retornada. Observação: As páginas iniciam a contagem a partir de 0 (zero), por exemplo: offset=0', 'type': 'integer'}}, 'type': 'object'}}}}, 'tool_choice': {'type': 'function', 'function': {'name': 'HorusMedicineStockRequest2'}}}\n"
     ]
    },
    {
     "data": {
      "text/plain": [
       "HorusMedicineStockRequest2(codigo_uf='53', data_posicao_estoque='2025-01-01', codigo_catmat='BR0267778', limit=100, offset=0)"
      ]
     },
     "execution_count": 83,
     "metadata": {},
     "output_type": "execute_result"
    }
   ],
   "source": [
    "question=\"\"\"\n",
    "Gostaria de obter informações sobre o estoque de paracetamol em Brasília em 2025.\n",
    "\"\"\"\n",
    "resp = qta.get_structured_output(question=question)\n",
    "resp"
   ]
  },
  {
   "cell_type": "code",
   "execution_count": 100,
   "id": "c6fee0f4",
   "metadata": {},
   "outputs": [
    {
     "name": "stdout",
     "output_type": "stream",
     "text": [
      "input_variables=['question'] input_types={} partial_variables={} messages=[SystemMessagePromptTemplate(prompt=PromptTemplate(input_variables=[], input_types={}, partial_variables={}, template='\\nYou are an expert extraction algorithm, specialized in extract relevant information from the text \\nand return a output as specified by the provided JSON schema.\\nDo not generate any new information or extra characters outside of the JSON schema.\\nThis JSON schema is used like a request object to consult Horus API to get relavant medicine stock \\ninformation by brasilian city and state.\\nSome attributes of JSON schema should be filled with a known id. To do this, you must use the \\ncontext provided below. You must return only the codes provided in the context. \\nIf you do not find any information, return the field with the value None or an empty string.\\nNever return a code for cities and states that are not on the list.\\n\\nIBGE code of the Brazilian States, also called Federation Unit (UF):\\n- Nome do Estado (UF) = Acre, Sigla = AC, Código IBGE = 12\\n- Nome do Estado (UF) = Ceará, Sigla = CE, Código IBGE = 23\\n- Nome do Estado (UF) = São Paulo, Sigla = SP, Código IBGE = 35\\n- Nome do Estado (UF) = Paraná, Sigla = PR, Código IBGE = 41\\n- Nome do Estado (UF) = Bahia, Sigla = BA, Código IBGE = 29\\n- Nome do Estado (UF) = Goiás, Sigla = GO, Código IBGE = 52\\n- Nome do Estado (UF) = Distrito Federal, Sigla = DF, Código IBGE = 53\\n- Nome do Estado (UF) = Santa Catarina, Sigla = BA, Código IBGE = 42\\n\\nCATMAT code (Catálogo de Materiais):\\n- Princípio ativo = Ibuprofeno, Código CATMAT = BR0332755-6\\n- Princípio ativo = Paracetamol, Código CATMAT = BR0267778\\n- Princípio ativo = Esomeprazol, Magnésio, Código CATMAT = BR0274186\\n- Princípio ativo = Nimesulida, Código CATMAT = BR0273710\\n'), additional_kwargs={}), HumanMessagePromptTemplate(prompt=PromptTemplate(input_variables=['question'], input_types={}, partial_variables={}, template='{question}'), additional_kwargs={})]\n",
      "Structured LLM tool schema:\n",
      " {'tools': [{'type': 'function', 'function': {'name': 'HorusMedicineStockRequest2', 'description': '', 'parameters': {'properties': {'codigo_uf': {'anyOf': [{'type': 'string'}, {'type': 'null'}], 'default': None, 'description': 'Filtra pelo Código IBGE da Unidade da Federação à qual pertence o estabelecimento'}, 'data_posicao_estoque': {'anyOf': [{'type': 'string'}, {'type': 'null'}], 'default': None, 'description': 'Filtra pela Data da posição de estoque informada. Formato: AAAA-MM-DD. Exemplo: 2024-02-21'}, 'codigo_catmat': {'anyOf': [{'type': 'string'}, {'type': 'null'}], 'default': None, 'description': 'Filtra pelo Código CATMAT com unidade de fornecimento do item em estoque'}, 'limit': {'default': 100, 'description': 'Quantidade de itens retornados por página. Deve ser menor ou igual 20', 'type': 'integer'}, 'offset': {'default': 0, 'description': 'Número da página de itens que deve ser retornada. Observação: As páginas iniciam a contagem a partir de 0 (zero), por exemplo: offset=0', 'type': 'integer'}}, 'type': 'object'}}}], 'ls_structured_output_format': {'kwargs': {'method': 'function_calling'}, 'schema': {'type': 'function', 'function': {'name': 'HorusMedicineStockRequest2', 'description': '', 'parameters': {'properties': {'codigo_uf': {'anyOf': [{'type': 'string'}, {'type': 'null'}], 'default': None, 'description': 'Filtra pelo Código IBGE da Unidade da Federação à qual pertence o estabelecimento'}, 'data_posicao_estoque': {'anyOf': [{'type': 'string'}, {'type': 'null'}], 'default': None, 'description': 'Filtra pela Data da posição de estoque informada. Formato: AAAA-MM-DD. Exemplo: 2024-02-21'}, 'codigo_catmat': {'anyOf': [{'type': 'string'}, {'type': 'null'}], 'default': None, 'description': 'Filtra pelo Código CATMAT com unidade de fornecimento do item em estoque'}, 'limit': {'default': 100, 'description': 'Quantidade de itens retornados por página. Deve ser menor ou igual 20', 'type': 'integer'}, 'offset': {'default': 0, 'description': 'Número da página de itens que deve ser retornada. Observação: As páginas iniciam a contagem a partir de 0 (zero), por exemplo: offset=0', 'type': 'integer'}}, 'type': 'object'}}}}, 'tool_choice': {'type': 'function', 'function': {'name': 'HorusMedicineStockRequest2'}}}\n",
      "Structured output used as API request:\n",
      " codigo_uf='53' data_posicao_estoque=None codigo_catmat=None limit=100 offset=0\n",
      "API response:\n",
      " {'parametros': [{'codigo_uf': 53, 'uf': 'DF', 'codigo_municipio': 530010, 'municipio': 'Brasília', 'codigo_cnes': 0, 'data_posicao_estoque': '2024-02-05', 'codigo_catmat': 'BR0207893', 'descricao_produto': 'ATADURA ALGODÃO, ALGODÃO, 13 UN, 15 CM, 450 CM, CREPOM', 'quantidade_estoque': 12.0, 'numero_lote': 'E2620', 'data_validade': '2025-06-01 00:00:00-03', 'tipo_produto': 'O', 'sigla_programa_saude': 'ALZHE', 'descricao_programa_saude': 'ALZHEIMER', 'sigla_sistema_origem': 'HORUS', 'razao_social': None, 'nome_fantasia': None, 'cep': None, 'logradouro': None, 'numero_endereco': None, 'bairro': None, 'telefone': None, 'latitude': None, 'longitude': None, 'email': None}, {'codigo_uf': 53, 'uf': 'DF', 'codigo_municipio': 530010, 'municipio': 'Brasília', 'codigo_cnes': 0, 'data_posicao_estoque': '2024-02-05', 'codigo_catmat': 'BR0224955', 'descricao_produto': 'FIO DENTAL, RESINA TERMOPLÁSTICA/CERA E ESSÊNCIA, 50 M, REGULAR, NEUTRO', 'quantidade_estoque': 5094.0, 'numero_lote': '0823DCQ', 'data_validade': '2026-08-30 00:00:00-03', 'tipo_produto': 'O', 'sigla_programa_saude': 'AF', 'descricao_programa_saude': 'ASSISTÊNCIA FARMACÊUTICA', 'sigla_sistema_origem': 'HORUS', 'razao_social': None, 'nome_fantasia': None, 'cep': None, 'logradouro': None, 'numero_endereco': None, 'bairro': None, 'telefone': None, 'latitude': None, 'longitude': None, 'email': None}, {'codigo_uf': 53, 'uf': 'DF', 'codigo_municipio': 530010, 'municipio': 'Brasília', 'codigo_cnes': 0, 'data_posicao_estoque': '2024-02-05', 'codigo_catmat': 'BR0230092', 'descricao_produto': 'FRALDA DESCARTÁVEL, ADULTO, G, DIURNO E NOTURNO', 'quantidade_estoque': 261.0, 'numero_lote': '5198', 'data_validade': '2025-07-12 00:00:00-03', 'tipo_produto': 'O', 'sigla_programa_saude': 'ANTMICRO', 'descricao_programa_saude': 'ANTIMICROBIANOS', 'sigla_sistema_origem': 'HORUS', 'razao_social': None, 'nome_fantasia': None, 'cep': None, 'logradouro': None, 'numero_endereco': None, 'bairro': None, 'telefone': None, 'latitude': None, 'longitude': None, 'email': None}, {'codigo_uf': 53, 'uf': 'DF', 'codigo_municipio': 530010, 'municipio': 'Brasília', 'codigo_cnes': 0, 'data_posicao_estoque': '2024-02-05', 'codigo_catmat': 'BR0230093', 'descricao_produto': 'FRALDA DESCARTÁVEL, ADULTO, M, DIURNO E NOTURNO                                               ', 'quantidade_estoque': 40.0, 'numero_lote': '5199', 'data_validade': '2025-07-15 00:00:00-03', 'tipo_produto': 'O', 'sigla_programa_saude': 'ANTMICRO', 'descricao_programa_saude': 'ANTIMICROBIANOS', 'sigla_sistema_origem': 'HORUS', 'razao_social': None, 'nome_fantasia': None, 'cep': None, 'logradouro': None, 'numero_endereco': None, 'bairro': None, 'telefone': None, 'latitude': None, 'longitude': None, 'email': None}, {'codigo_uf': 53, 'uf': 'DF', 'codigo_municipio': 530010, 'municipio': 'Brasília', 'codigo_cnes': 0, 'data_posicao_estoque': '2024-02-05', 'codigo_catmat': 'BR0233632U0062', 'descricao_produto': 'ÓLEO MINERAL (PETROLATO) SOLUÇÃO ORAL 100 ML', 'quantidade_estoque': 1.0, 'numero_lote': '2323804', 'data_validade': '2025-07-30 00:00:00-03', 'tipo_produto': 'B', 'sigla_programa_saude': 'AF', 'descricao_programa_saude': 'ASSISTÊNCIA FARMACÊUTICA', 'sigla_sistema_origem': 'HORUS', 'razao_social': None, 'nome_fantasia': None, 'cep': None, 'logradouro': None, 'numero_endereco': None, 'bairro': None, 'telefone': None, 'latitude': None, 'longitude': None, 'email': None}, {'codigo_uf': 53, 'uf': 'DF', 'codigo_municipio': 530010, 'municipio': 'Brasília', 'codigo_cnes': 0, 'data_posicao_estoque': '2024-02-05', 'codigo_catmat': 'BR0237636', 'descricao_produto': 'AVENTAL OU CAPOTE CIRÚRGICO, NÃO TECIDO, BRANCA, G, 3 CAMADAS, 60 G/M2, ESTÉRIL, COM MANGAS LONGAS, IMPERMEÁVEL A PRODUTOS QUÍMICOS, DESCARTÁVEL', 'quantidade_estoque': 0.0, 'numero_lote': '00000', 'data_validade': '2023-10-20 00:00:00-03', 'tipo_produto': 'O', 'sigla_programa_saude': 'AFSESAI', 'descricao_programa_saude': 'ASSISTÊNCIA FARMACÊUTICA SESAI ', 'sigla_sistema_origem': 'HORUS', 'razao_social': None, 'nome_fantasia': None, 'cep': None, 'logradouro': None, 'numero_endereco': None, 'bairro': None, 'telefone': None, 'latitude': None, 'longitude': None, 'email': None}, {'codigo_uf': 53, 'uf': 'DF', 'codigo_municipio': 530010, 'municipio': 'Brasília', 'codigo_cnes': 0, 'data_posicao_estoque': '2024-02-05', 'codigo_catmat': 'BR0237636', 'descricao_produto': 'AVENTAL OU CAPOTE CIRÚRGICO, NÃO TECIDO, BRANCA, G, 3 CAMADAS, 60 G/M2, ESTÉRIL, COM MANGAS LONGAS, IMPERMEÁVEL A PRODUTOS QUÍMICOS, DESCARTÁVEL', 'quantidade_estoque': 80.0, 'numero_lote': '20200368', 'data_validade': '2030-05-17 00:00:00-03', 'tipo_produto': 'O', 'sigla_programa_saude': 'ANTMICRO', 'descricao_programa_saude': 'ANTIMICROBIANOS', 'sigla_sistema_origem': 'HORUS', 'razao_social': None, 'nome_fantasia': None, 'cep': None, 'logradouro': None, 'numero_endereco': None, 'bairro': None, 'telefone': None, 'latitude': None, 'longitude': None, 'email': None}, {'codigo_uf': 53, 'uf': 'DF', 'codigo_municipio': 530010, 'municipio': 'Brasília', 'codigo_cnes': 0, 'data_posicao_estoque': '2024-02-05', 'codigo_catmat': 'BR0244064', 'descricao_produto': 'ÓCULOS PROTEÇÃO, ARMAÇÃO ACRÍLICO,PROTEÇÃO LATERAL/FRONTAL, LENTE INCOLOR, APLICAÇÃO PROTEÇÃO DOS OLHOS, CONTRA POEIRA E RESÍDUOS DO AR, COM HASTE DOBRÁVEL E REGULÁVEL', 'quantidade_estoque': 13.0, 'numero_lote': '9722', 'data_validade': '2026-12-30 00:00:00-03', 'tipo_produto': 'O', 'sigla_programa_saude': 'AF', 'descricao_programa_saude': 'ASSISTÊNCIA FARMACÊUTICA', 'sigla_sistema_origem': 'HORUS', 'razao_social': None, 'nome_fantasia': None, 'cep': None, 'logradouro': None, 'numero_endereco': None, 'bairro': None, 'telefone': None, 'latitude': None, 'longitude': None, 'email': None}, {'codigo_uf': 53, 'uf': 'DF', 'codigo_municipio': 530010, 'municipio': 'Brasília', 'codigo_cnes': 0, 'data_posicao_estoque': '2024-02-05', 'codigo_catmat': 'BR0248838', 'descricao_produto': 'ABAIXADOR LÍNGUA, MADEIRA, DESCARTÁVEL, 15 CM, TIPO ESPÁTULA, 1,50 CM, 2 MM', 'quantidade_estoque': 500.0, 'numero_lote': '672', 'data_validade': '2028-12-30 00:00:00-03', 'tipo_produto': 'O', 'sigla_programa_saude': 'AF', 'descricao_programa_saude': 'ASSISTÊNCIA FARMACÊUTICA', 'sigla_sistema_origem': 'HORUS', 'razao_social': None, 'nome_fantasia': None, 'cep': None, 'logradouro': None, 'numero_endereco': None, 'bairro': None, 'telefone': None, 'latitude': None, 'longitude': None, 'email': None}, {'codigo_uf': 53, 'uf': 'DF', 'codigo_municipio': 530010, 'municipio': 'Brasília', 'codigo_cnes': 0, 'data_posicao_estoque': '2024-02-05', 'codigo_catmat': 'BR0266863U0062', 'descricao_produto': 'METRONIDAZOL (BENZOILMETRONIDAZOL) 40 MG/ML SUSPENSÃO ORAL  100 ML', 'quantidade_estoque': 10.0, 'numero_lote': '121224', 'data_validade': '2023-12-31 00:00:00-03', 'tipo_produto': 'B', 'sigla_programa_saude': 'ANTMICRO', 'descricao_programa_saude': 'ANTIMICROBIANOS', 'sigla_sistema_origem': 'HORUS', 'razao_social': None, 'nome_fantasia': None, 'cep': None, 'logradouro': None, 'numero_endereco': None, 'bairro': None, 'telefone': None, 'latitude': None, 'longitude': None, 'email': None}, {'codigo_uf': 53, 'uf': 'DF', 'codigo_municipio': 530010, 'municipio': 'Brasília', 'codigo_cnes': 0, 'data_posicao_estoque': '2024-02-05', 'codigo_catmat': 'BR0266863U0062', 'descricao_produto': 'METRONIDAZOL (BENZOILMETRONIDAZOL) 40 MG/ML SUSPENSÃO ORAL  100 ML', 'quantidade_estoque': 6.0, 'numero_lote': '51239', 'data_validade': '2023-05-30 00:00:00-03', 'tipo_produto': 'B', 'sigla_programa_saude': 'ANTMICRO', 'descricao_programa_saude': 'ANTIMICROBIANOS', 'sigla_sistema_origem': 'HORUS', 'razao_social': None, 'nome_fantasia': None, 'cep': None, 'logradouro': None, 'numero_endereco': None, 'bairro': None, 'telefone': None, 'latitude': None, 'longitude': None, 'email': None}, {'codigo_uf': 53, 'uf': 'DF', 'codigo_municipio': 530010, 'municipio': 'Brasília', 'codigo_cnes': 0, 'data_posicao_estoque': '2024-02-05', 'codigo_catmat': 'BR0267140U0042', 'descricao_produto': 'AZITROMICINA 500 MG COMPRIMIDO ELENCO ESTADUAL ', 'quantidade_estoque': 230.0, 'numero_lote': '2124025', 'data_validade': '2023-10-31 00:00:00-03', 'tipo_produto': 'B', 'sigla_programa_saude': 'ANTMICRO', 'descricao_programa_saude': 'ANTIMICROBIANOS', 'sigla_sistema_origem': 'HORUS', 'razao_social': None, 'nome_fantasia': None, 'cep': None, 'logradouro': None, 'numero_endereco': None, 'bairro': None, 'telefone': None, 'latitude': None, 'longitude': None, 'email': None}, {'codigo_uf': 53, 'uf': 'DF', 'codigo_municipio': 530010, 'municipio': 'Brasília', 'codigo_cnes': 0, 'data_posicao_estoque': '2024-02-05', 'codigo_catmat': 'BR0267140U0042', 'descricao_produto': 'AZITROMICINA 500 MG COMPRIMIDO ELENCO ESTADUAL ', 'quantidade_estoque': 500.0, 'numero_lote': '2124046', 'data_validade': '2023-10-31 00:00:00-03', 'tipo_produto': 'B', 'sigla_programa_saude': 'ANTMICRO', 'descricao_programa_saude': 'ANTIMICROBIANOS', 'sigla_sistema_origem': 'HORUS', 'razao_social': None, 'nome_fantasia': None, 'cep': None, 'logradouro': None, 'numero_endereco': None, 'bairro': None, 'telefone': None, 'latitude': None, 'longitude': None, 'email': None}, {'codigo_uf': 53, 'uf': 'DF', 'codigo_municipio': 530010, 'municipio': 'Brasília', 'codigo_cnes': 0, 'data_posicao_estoque': '2024-02-05', 'codigo_catmat': 'BR0267140U0042', 'descricao_produto': 'AZITROMICINA 500 MG COMPRIMIDO ELENCO ESTADUAL ', 'quantidade_estoque': 50.0, 'numero_lote': '22000318', 'data_validade': '2024-01-30 00:00:00-03', 'tipo_produto': 'B', 'sigla_programa_saude': 'ANTMICRO', 'descricao_programa_saude': 'ANTIMICROBIANOS', 'sigla_sistema_origem': 'HORUS', 'razao_social': None, 'nome_fantasia': None, 'cep': None, 'logradouro': None, 'numero_endereco': None, 'bairro': None, 'telefone': None, 'latitude': None, 'longitude': None, 'email': None}, {'codigo_uf': 53, 'uf': 'DF', 'codigo_municipio': 530010, 'municipio': 'Brasília', 'codigo_cnes': 0, 'data_posicao_estoque': '2024-02-05', 'codigo_catmat': 'BR0267205U0063', 'descricao_produto': 'DIPIRONA SÓDICA  500 MG/ML SOLUÇÃO ORAL 10 ML', 'quantidade_estoque': 10.0, 'numero_lote': 'DS22G269', 'data_validade': '2024-07-30 00:00:00-03', 'tipo_produto': 'B', 'sigla_programa_saude': 'AF', 'descricao_programa_saude': 'ASSISTÊNCIA FARMACÊUTICA', 'sigla_sistema_origem': 'HORUS', 'razao_social': None, 'nome_fantasia': None, 'cep': None, 'logradouro': None, 'numero_endereco': None, 'bairro': None, 'telefone': None, 'latitude': None, 'longitude': None, 'email': None}, {'codigo_uf': 53, 'uf': 'DF', 'codigo_municipio': 530010, 'municipio': 'Brasília', 'codigo_cnes': 0, 'data_posicao_estoque': '2024-02-05', 'codigo_catmat': 'BR0267205U0063', 'descricao_produto': 'DIPIRONA SÓDICA  500 MG/ML SOLUÇÃO ORAL 10 ML', 'quantidade_estoque': 18.0, 'numero_lote': 'F0322', 'data_validade': '2024-03-30 00:00:00-03', 'tipo_produto': 'B', 'sigla_programa_saude': 'AF', 'descricao_programa_saude': 'ASSISTÊNCIA FARMACÊUTICA', 'sigla_sistema_origem': 'HORUS', 'razao_social': None, 'nome_fantasia': None, 'cep': None, 'logradouro': None, 'numero_endereco': None, 'bairro': None, 'telefone': None, 'latitude': None, 'longitude': None, 'email': None}, {'codigo_uf': 53, 'uf': 'DF', 'codigo_municipio': 530010, 'municipio': 'Brasília', 'codigo_cnes': 0, 'data_posicao_estoque': '2024-02-05', 'codigo_catmat': 'BR0267312U0042', 'descricao_produto': 'METOCLOPRAMIDA, CLORIDRATO 10 MG COMPRIMIDO', 'quantidade_estoque': 160.0, 'numero_lote': '091179', 'data_validade': '2023-09-30 00:00:00-03', 'tipo_produto': 'B', 'sigla_programa_saude': 'AF', 'descricao_programa_saude': 'ASSISTÊNCIA FARMACÊUTICA', 'sigla_sistema_origem': 'HORUS', 'razao_social': None, 'nome_fantasia': None, 'cep': None, 'logradouro': None, 'numero_endereco': None, 'bairro': None, 'telefone': None, 'latitude': None, 'longitude': None, 'email': None}, {'codigo_uf': 53, 'uf': 'DF', 'codigo_municipio': 530010, 'municipio': 'Brasília', 'codigo_cnes': 0, 'data_posicao_estoque': '2024-02-05', 'codigo_catmat': 'BR0267328', 'descricao_produto': 'FOSFATO DE SÓDIO MONOBÁSICO + FOSFATO DE SÓDIO DIBÁSICO 16 + 6 % ENEMA  130 ML ', 'quantidade_estoque': 5.0, 'numero_lote': '22110864', 'data_validade': '2024-11-30 00:00:00-03', 'tipo_produto': 'B', 'sigla_programa_saude': 'ANTMICRO', 'descricao_programa_saude': 'ANTIMICROBIANOS', 'sigla_sistema_origem': 'HORUS', 'razao_social': None, 'nome_fantasia': None, 'cep': None, 'logradouro': None, 'numero_endereco': None, 'bairro': None, 'telefone': None, 'latitude': None, 'longitude': None, 'email': None}, {'codigo_uf': 53, 'uf': 'DF', 'codigo_municipio': 530010, 'municipio': 'Brasília', 'codigo_cnes': 0, 'data_posicao_estoque': '2024-02-05', 'codigo_catmat': 'BR0267378U0105', 'descricao_produto': 'NISTATINA 100.000 UI/ML SUSPENSÃO ORAL  50  ML', 'quantidade_estoque': 5.0, 'numero_lote': '23A55V', 'data_validade': '2024-07-30 00:00:00-03', 'tipo_produto': 'B', 'sigla_programa_saude': 'ANTMICRO', 'descricao_programa_saude': 'ANTIMICROBIANOS', 'sigla_sistema_origem': 'HORUS', 'razao_social': None, 'nome_fantasia': None, 'cep': None, 'logradouro': None, 'numero_endereco': None, 'bairro': None, 'telefone': None, 'latitude': None, 'longitude': None, 'email': None}, {'codigo_uf': 53, 'uf': 'DF', 'codigo_municipio': 530010, 'municipio': 'Brasília', 'codigo_cnes': 0, 'data_posicao_estoque': '2024-02-05', 'codigo_catmat': 'BR0267502U0042', 'descricao_produto': 'ÁCIDO ACETILSALICÍLICO  100 MG COMPRIMIDO', 'quantidade_estoque': 30.0, 'numero_lote': '08001317', 'data_validade': '2023-11-30 00:00:00-03', 'tipo_produto': 'B', 'sigla_programa_saude': 'AF', 'descricao_programa_saude': 'ASSISTÊNCIA FARMACÊUTICA', 'sigla_sistema_origem': 'HORUS', 'razao_social': None, 'nome_fantasia': None, 'cep': None, 'logradouro': None, 'numero_endereco': None, 'bairro': None, 'telefone': None, 'latitude': None, 'longitude': None, 'email': None}]}\n"
     ]
    },
    {
     "data": {
      "text/plain": [
       "'Sim, existem medicamentos vencidos no Distrito Federal hoje.'"
      ]
     },
     "execution_count": 100,
     "metadata": {},
     "output_type": "execute_result"
    }
   ],
   "source": [
    "question=\"\"\"\n",
    "Existem medicamentos vencidos no Distrito Federal hoje?\n",
    "\"\"\"\n",
    "resp = qta.retriever(question=question)\n",
    "resp"
   ]
  },
  {
   "cell_type": "code",
   "execution_count": 101,
   "id": "ea43d3da",
   "metadata": {},
   "outputs": [
    {
     "name": "stdout",
     "output_type": "stream",
     "text": [
      "input_variables=['question'] input_types={} partial_variables={} messages=[SystemMessagePromptTemplate(prompt=PromptTemplate(input_variables=[], input_types={}, partial_variables={}, template='\\nYou are an expert extraction algorithm, specialized in extract relevant information from the text \\nand return a output as specified by the provided JSON schema.\\nDo not generate any new information or extra characters outside of the JSON schema.\\nThis JSON schema is used like a request object to consult Horus API to get relavant medicine stock \\ninformation by brasilian city and state.\\nSome attributes of JSON schema should be filled with a known id. To do this, you must use the \\ncontext provided below. You must return only the codes provided in the context. \\nIf you do not find any information, return the field with the value None or an empty string.\\nNever return a code for cities and states that are not on the list.\\n\\nIBGE code of the Brazilian States, also called Federation Unit (UF):\\n- Nome do Estado (UF) = Acre, Sigla = AC, Código IBGE = 12\\n- Nome do Estado (UF) = Ceará, Sigla = CE, Código IBGE = 23\\n- Nome do Estado (UF) = São Paulo, Sigla = SP, Código IBGE = 35\\n- Nome do Estado (UF) = Paraná, Sigla = PR, Código IBGE = 41\\n- Nome do Estado (UF) = Bahia, Sigla = BA, Código IBGE = 29\\n- Nome do Estado (UF) = Goiás, Sigla = GO, Código IBGE = 52\\n- Nome do Estado (UF) = Distrito Federal, Sigla = DF, Código IBGE = 53\\n- Nome do Estado (UF) = Santa Catarina, Sigla = BA, Código IBGE = 42\\n\\nCATMAT code (Catálogo de Materiais):\\n- Princípio ativo = Ibuprofeno, Código CATMAT = BR0332755-6\\n- Princípio ativo = Paracetamol, Código CATMAT = BR0267778\\n- Princípio ativo = Esomeprazol, Magnésio, Código CATMAT = BR0274186\\n- Princípio ativo = Nimesulida, Código CATMAT = BR0273710\\n'), additional_kwargs={}), HumanMessagePromptTemplate(prompt=PromptTemplate(input_variables=['question'], input_types={}, partial_variables={}, template='{question}'), additional_kwargs={})]\n",
      "Structured LLM tool schema:\n",
      " {'tools': [{'type': 'function', 'function': {'name': 'HorusMedicineStockRequest2', 'description': '', 'parameters': {'properties': {'codigo_uf': {'anyOf': [{'type': 'string'}, {'type': 'null'}], 'default': None, 'description': 'Filtra pelo Código IBGE da Unidade da Federação à qual pertence o estabelecimento'}, 'data_posicao_estoque': {'anyOf': [{'type': 'string'}, {'type': 'null'}], 'default': None, 'description': 'Filtra pela Data da posição de estoque informada. Formato: AAAA-MM-DD. Exemplo: 2024-02-21'}, 'codigo_catmat': {'anyOf': [{'type': 'string'}, {'type': 'null'}], 'default': None, 'description': 'Filtra pelo Código CATMAT com unidade de fornecimento do item em estoque'}, 'limit': {'default': 100, 'description': 'Quantidade de itens retornados por página. Deve ser menor ou igual 20', 'type': 'integer'}, 'offset': {'default': 0, 'description': 'Número da página de itens que deve ser retornada. Observação: As páginas iniciam a contagem a partir de 0 (zero), por exemplo: offset=0', 'type': 'integer'}}, 'type': 'object'}}}], 'ls_structured_output_format': {'kwargs': {'method': 'function_calling'}, 'schema': {'type': 'function', 'function': {'name': 'HorusMedicineStockRequest2', 'description': '', 'parameters': {'properties': {'codigo_uf': {'anyOf': [{'type': 'string'}, {'type': 'null'}], 'default': None, 'description': 'Filtra pelo Código IBGE da Unidade da Federação à qual pertence o estabelecimento'}, 'data_posicao_estoque': {'anyOf': [{'type': 'string'}, {'type': 'null'}], 'default': None, 'description': 'Filtra pela Data da posição de estoque informada. Formato: AAAA-MM-DD. Exemplo: 2024-02-21'}, 'codigo_catmat': {'anyOf': [{'type': 'string'}, {'type': 'null'}], 'default': None, 'description': 'Filtra pelo Código CATMAT com unidade de fornecimento do item em estoque'}, 'limit': {'default': 100, 'description': 'Quantidade de itens retornados por página. Deve ser menor ou igual 20', 'type': 'integer'}, 'offset': {'default': 0, 'description': 'Número da página de itens que deve ser retornada. Observação: As páginas iniciam a contagem a partir de 0 (zero), por exemplo: offset=0', 'type': 'integer'}}, 'type': 'object'}}}}, 'tool_choice': {'type': 'function', 'function': {'name': 'HorusMedicineStockRequest2'}}}\n",
      "Structured output used as API request:\n",
      " codigo_uf='53' data_posicao_estoque=None codigo_catmat='BR0274186' limit=100 offset=0\n",
      "API response:\n",
      " {'parametros': []}\n"
     ]
    },
    {
     "data": {
      "text/plain": [
       "\"Based on the provided context, I don't have any information about the medicine stock from the Distrito Federal. The context only mentions the existence of a list of parameters, but it doesn't provide any data about the medicine stock.\\n\\nTherefore, I don't have enough information to answer the question. I don't know if there are expired medicines in the Distrito Federal today, and I don't have the necessary data to provide the name of the medicine, the quantity in stock, and the expiration date.\""
      ]
     },
     "execution_count": 101,
     "metadata": {},
     "output_type": "execute_result"
    }
   ],
   "source": [
    "question=\"\"\"\n",
    "Existem medicamentos vencidos no Distrito Federal hoje?\n",
    "Se sim, informe o nome do medicamento, a quantidade em estoque e a data de validade.\n",
    "\"\"\"\n",
    "resp = qta.retriever(question=question)\n",
    "resp"
   ]
  }
 ],
 "metadata": {
  "kernelspec": {
   "display_name": ".venv",
   "language": "python",
   "name": "python3"
  },
  "language_info": {
   "codemirror_mode": {
    "name": "ipython",
    "version": 3
   },
   "file_extension": ".py",
   "mimetype": "text/x-python",
   "name": "python",
   "nbconvert_exporter": "python",
   "pygments_lexer": "ipython3",
   "version": "3.12.7"
  }
 },
 "nbformat": 4,
 "nbformat_minor": 5
}
